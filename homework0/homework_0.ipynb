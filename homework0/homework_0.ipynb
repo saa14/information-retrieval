{
 "cells": [
  {
   "cell_type": "markdown",
   "metadata": {},
   "source": [
    "#### CSCE 670 :: Information Storage and Retrieval :: Texas A&M University :: Spring 2018\n",
    "\n",
    "\n",
    "# Homework 0: Let's get it started\n",
    "\n",
    "- **100 points [2% of your final grade]**\n",
    "- **Due Tuesday, January 23 by 11:59pm**\n",
    "\n",
    "*Goals of this homework:* The objective of this homework is to prepare your development environment, get familiar with iPython in a Jupyter notebook, and then do some beginning exercises.\n",
    "\n",
    "*Submission instructions:* You should post your notebook to ecampus (look for the homework 0 assignment there). Please name your submission **your-uin_hw0.ipynb**, so for example, my submission would be something like **555001234_hw0.ipynb**. Your notebook should be fully executed when you submit ... so run all the cells for us so we can see the output, then submit that. "
   ]
  },
  {
   "cell_type": "markdown",
   "metadata": {},
   "source": [
    "## iPython, Python, and our Expectations\n",
    "\n",
    "This homework, all subsequent homeworks, and your project will use iPython in a Jupyter notebook. iPython is just an interactive shell for programming in the Python language. A few years ago, the developers created a generic interactive shell called Jupyter that supports languages beyond just Python. This can be a bit confusing, and we'll add a bit to the confusion by referring to iPython and Jupyter interchangeably in this course.\n",
    "\n",
    "With respect to Python, we do not expect you to have any prior experience. We do, however, expect you to have proficiency in some programming language (so you've seen loops, conditionals, functions, etc.) and a willingness to experiment and learn on your own. Python is a fun language and you should be able to pick up the necessary portions as we move along; however, this may require you to spend some extra cycles consulting online documentation, referring to a Python book, or scouring over StackOverflow. \n",
    "\n",
    "A few basic Python pointers:\n",
    "* http://introtopython.org\n",
    "* http://ricardoduarte.github.io/python-for-developers/\n",
    "* http://mbakker7.github.io/exploratory_computing_with_python/ [particularly the basic Python language ones]\n",
    "\n",
    "We expect your code to be well-documented with appropriate comments. We prefer meaningful variable names and function names. We also expect your code to be compact and sensible -- no super-long lines, nor dense unintelligible lines of code.\n",
    "\n",
    "In general, Python code is often run from standalone Python modules or files; for this class, we will often run Python from here within the iPython notebook.\n",
    "\n",
    "Now that you're ready, let's take a look at this iPython notebook. You'll notice that it is composed of cells. Some cells have text (like this one), while others contain code and comments. This cell is written in **Markdown** a simple text-to-HTML language. You can find a cheat sheet for Markdown here: https://github.com/adam-p/markdown-here/wiki/Markdown-Cheatsheet. You can toggle a cell between Markdown and code with the toggle button up there on the menu bar.\n",
    "\n",
    "The cell below contains code and can be **executed** by hitting the **Play** button on the menu bar or by hitting **shift + enter**."
   ]
  },
  {
   "cell_type": "code",
   "execution_count": 32,
   "metadata": {},
   "outputs": [
    {
     "name": "stdout",
     "output_type": "stream",
     "text": [
      "Hello world!\n"
     ]
    }
   ],
   "source": [
    "# this is a comment\n",
    "# you can execute this cell by hitting shift+enter\n",
    "# the output will appear immediately below\n",
    "print 'Hello world!'"
   ]
  },
  {
   "cell_type": "markdown",
   "metadata": {},
   "source": [
    "Since iPython is just an interactive shell around Python, you can define functions. For example:"
   ]
  },
  {
   "cell_type": "code",
   "execution_count": 33,
   "metadata": {},
   "outputs": [
    {
     "data": {
      "text/plain": [
       "27"
      ]
     },
     "execution_count": 33,
     "metadata": {},
     "output_type": "execute_result"
    }
   ],
   "source": [
    "def cubed(x):\n",
    "    \"\"\" Return the cube of a  \n",
    "        value \"\"\"\n",
    "    return x ** 3\n",
    "\n",
    "cubed(3)"
   ]
  },
  {
   "cell_type": "markdown",
   "metadata": {},
   "source": [
    "You can even access the filesystem with commands like `ls` or `pwd`:"
   ]
  },
  {
   "cell_type": "code",
   "execution_count": 34,
   "metadata": {},
   "outputs": [
    {
     "name": "stdout",
     "output_type": "stream",
     "text": [
      "/media/saagar14/DATA/IR Environment\n",
      "homework_0.ipynb  sample.txt\n"
     ]
    }
   ],
   "source": [
    "!pwd\n",
    "!ls"
   ]
  },
  {
   "cell_type": "markdown",
   "metadata": {},
   "source": [
    "## Getting Started with Numpy and matplotlib\n",
    "\n",
    "In this part, we're going to get familiar with two important libraries -- Numpy and matplotlib.\n",
    "\n",
    "### Into to Numpy\n",
    "Since Python is an interpreted language, it might not seem like the best choice for data-intensive work. Luckily, almost all of our data workflow stack is built on top of Numpy, a Python library that adds support for large, multi-dimensional arrays and matrices, along with a large library of high-level mathematical functions to operate on these arrays."
   ]
  },
  {
   "cell_type": "code",
   "execution_count": 35,
   "metadata": {},
   "outputs": [
    {
     "name": "stdout",
     "output_type": "stream",
     "text": [
      "Make a 4 row x 2 column matrix of random numbers\n",
      "[[ 0.96655392  0.84390532]\n",
      " [ 0.64802616  0.62717983]\n",
      " [ 0.77914388  0.30758036]\n",
      " [ 0.06857106  0.64705892]]\n",
      "\n",
      "Add 10 to every element\n",
      "[[ 10.96655392  10.84390532]\n",
      " [ 10.64802616  10.62717983]\n",
      " [ 10.77914388  10.30758036]\n",
      " [ 10.06857106  10.64705892]]\n",
      "\n",
      "Get the element at row 3, column 1\n",
      "10.6470589171\n",
      "\n",
      "Get the first row\n",
      "[ 10.96655392  10.84390532]\n",
      "\n",
      "Get the first two rows\n",
      "[[ 10.96655392  10.84390532]\n",
      " [ 10.64802616  10.62717983]]\n",
      "\n"
     ]
    }
   ],
   "source": [
    "import numpy as np\n",
    "\n",
    "print \"Make a 4 row x 2 column matrix of random numbers\"\n",
    "x = np.random.random((4, 2))\n",
    "print x\n",
    "print\n",
    "\n",
    "print \"Add 10 to every element\"\n",
    "x = x + 10\n",
    "print x\n",
    "print\n",
    "\n",
    "print \"Get the element at row 3, column 1\"\n",
    "print x[3, 1]\n",
    "print\n",
    "\n",
    "print \"Get the first row\"\n",
    "print x[0, :]\n",
    "print\n",
    "\n",
    "print \"Get the first two rows\"\n",
    "print x[:2]\n",
    "print\n"
   ]
  },
  {
   "cell_type": "markdown",
   "metadata": {},
   "source": [
    "Now, it's your turn. Find the maximum, minimum, and mean of the array. This does not require writing a loop. In the code cell below, type `x.m<TAB>`, to find built-in operations that may help you out."
   ]
  },
  {
   "cell_type": "code",
   "execution_count": 36,
   "metadata": {},
   "outputs": [
    {
     "name": "stdout",
     "output_type": "stream",
     "text": [
      "Maximum of the array\n",
      "10.9665539199\n",
      "\n",
      "Minimum of the array\n",
      "10.0685710586\n",
      "\n",
      "Mean of the array\n",
      "10.6110024308\n",
      "\n"
     ]
    }
   ],
   "source": [
    "# your code here\n",
    "print \"Maximum of the array\"\n",
    "print x.max()\n",
    "print \n",
    "\n",
    "print \"Minimum of the array\"\n",
    "print x.min()\n",
    "print \n",
    "\n",
    "print \"Mean of the array\"\n",
    "print x.mean()\n",
    "print"
   ]
  },
  {
   "cell_type": "markdown",
   "metadata": {},
   "source": [
    "That wasy easy! Now, let's see if you can generate 500 numbers from a uniform distribution between 0 and 10,000, inclusive. That is each random number could be 0, 1, 2, ..., 10,000 with equal chance. What is the maximum, minimum, and mean of these 500 random numbers? *Hint: take a look at np.random* "
   ]
  },
  {
   "cell_type": "code",
   "execution_count": 37,
   "metadata": {},
   "outputs": [
    {
     "name": "stdout",
     "output_type": "stream",
     "text": [
      "Make an array of 500 random numbers from a uniform distribution between 0 and 10000\n",
      "[7126 4945 5892 4461 2016 8728 2701 9616 9039 6462 9641 8641 5177 3234 6556\n",
      " 6871 2403  715 2856 3913 8088 4181 6234 3297 9988 8996  869 6209 6804 8581\n",
      "  590 5489 7325  563 7959 1878 9817 2940 2178 2008 8815 1859 6841 1413  671\n",
      " 3541 2910 9107 6538 3015 8713 2572 7640 9696 9626 6631 5120 7846  777 3075\n",
      " 5545 2169 5636 5171 6328  191 9547 3547 4356 5047 3447 6296 1543 5960 8540\n",
      " 9926 5831 1282 7314 8765 2720 1383  285 8819  107 7692 9921 1855  772 4905\n",
      " 9042 8736 2404 2931  444 9211 9752 1474 9073 9438 3547 1304 8588 4500 9496\n",
      "  752   27 3317 5106 8827 9641 2851 8442 1463 1742  313 3762 6793 1042  708\n",
      "  142 5689 5922 3279 8470 5557 2947 5281 6607 1633 2980 3837  582 1565 1574\n",
      " 2207 7794 3763 6433  686 4549  224 5913 8389 9385 7098 5506 3554 3313 5824\n",
      " 3019 2117 3907 6882 7946 2691 2289 3663  693 9151 9493 2649 1751 7445 2000\n",
      " 7807 3706 3675 6124  411 5991 1827 1387 2498 8813 7744  182 5857 7997  964\n",
      "  706 5974 7789 8864 4558 8751 2413 4216 9786 5281 8234 7626 5210 5900 8909\n",
      " 3576 6723 5667 8442 1137  328 1172 6899 9040 8758 8359 1127 6125 8380 6472\n",
      " 5736  238 5557 1891 6714 8841 7225 3421 5214 7440 1509 4676 2449 3662 8244\n",
      " 8375 9016 3954 4503 8118 2984 7126 6742 5491 1828 8761 6999 6344   84 1388\n",
      " 5545 7697  994 7052 9982 1478 2379 9199 2047 3462 2950 9833 9953 3921 9980\n",
      "  456 7121 2504 1763 2322 7185 2169 8189 9793 6453 2662 5231  531 3628 3869\n",
      " 3250 9334  392 3965 3493 3310 5725 9362  631 3773 8872 1067 8923 6044 6312\n",
      " 3294 3421 3966 3699 1666 8562 9960 3401 5896 2855 9821 4165 5676 9324 6104\n",
      " 2778 1122 3389 6729 2810 8515 9097 5333 5088 6036 5404 4648 6414 1805  418\n",
      " 5020 6062 3354 4329 3867   93 1793 3933 5348 8817  888   53 5571 2269 7434\n",
      " 2700 5272 7534 6284 2387 7000 5538 6192 3790  453 6662 8464 1409 1644 5752\n",
      " 1431 6443 9677 3928 9456 9847 3239 9826  576 2313 2000 5404 7615 2018 9217\n",
      " 4053 7303 5422 2334 9807 1066 3079 6748 4465 1687 7481 5196 8857 1181   18\n",
      " 4791 6300 8407 5441 1602 9907 8635 2858  289 1612 1733 1991 4942 6979 6082\n",
      " 3202 4546 4353  150 3420 7682  625  647 2351 7207 6705    9 9373 3511 4212\n",
      " 8176   58  661 3652 4172 2755 9803 5073 1026 5112 6522 5487  506 8769 9514\n",
      " 9164 1315 1803 4019 6806 8747 1856 3115  966 9527 1579 8483 5916 8500 2416\n",
      " 7863 7645 3701 1406 3676 1763 8995 9146 5907 1536 5266  610 5301  948  341\n",
      " 7327 8429 5467 3838 5354  382 9062 8543 4586   60 5590 8307 8853 4288 1002\n",
      " 2010 5684 1546 1509 5630 7589 8779 8278 8151 5051 7218 9476 3893 8086 2955\n",
      " 4348 7606 8301 5888 4422 3381 1727 3484 4511 2290  642 1702 4888 1882 9555\n",
      " 7085 1680 6051 8003  932]\n",
      "\n",
      "Maximum of the array\n",
      "9988\n",
      "\n",
      "Minimum of the array\n",
      "9\n",
      "\n",
      "Mean of the array\n",
      "4911.268\n",
      "\n"
     ]
    }
   ],
   "source": [
    "# your code here\n",
    "print \"Make an array of 500 random numbers from a uniform distribution between 0 and 10000\"\n",
    "x = np.random.randint(0,10000 + 1,500)\n",
    "print x\n",
    "print\n",
    "\n",
    "print \"Maximum of the array\"\n",
    "print x.max()\n",
    "print \n",
    "\n",
    "print \"Minimum of the array\"\n",
    "print x.min()\n",
    "print \n",
    "\n",
    "print \"Mean of the array\"\n",
    "print x.mean()\n",
    "print"
   ]
  },
  {
   "cell_type": "markdown",
   "metadata": {},
   "source": [
    "### Intro to matplotlib\n",
    "The most widespread Python plotting library is matplotlib. With it, you can create graphs, charts, basic maps, and other data visualizations. Later in the semester, we'll use `seaborn`, a library built on top of matplotlib that provides even more beautiful charts.\n",
    "\n",
    "Below, we provide some simple x and y coordinates that are then plotted. You should update the plot to include:\n",
    "* a label for the x-axis (call it 'X-axis')\n",
    "* a label for the y-axis (call it 'Y-axis')\n",
    "* a label for the x, y1 curve (call it 'Alice')\n",
    "* a label for the x, y2 curve (call it 'Bob')\n",
    "* a legend in the lower right corner"
   ]
  },
  {
   "cell_type": "code",
   "execution_count": 38,
   "metadata": {},
   "outputs": [
    {
     "data": {
      "text/plain": [
       "<matplotlib.legend.Legend at 0x7f0371435bd0>"
      ]
     },
     "execution_count": 38,
     "metadata": {},
     "output_type": "execute_result"
    },
    {
     "data": {
      "image/png": "[encoded data removed]",
      "text/plain": [
       "<matplotlib.figure.Figure at 0x7f037be05850>"
      ]
     },
     "metadata": {},
     "output_type": "display_data"
    }
   ],
   "source": [
    "# this line prepares IPython for working with matplotlib\n",
    "%matplotlib inline  \n",
    "\n",
    "import matplotlib.pyplot as plt  \n",
    "\n",
    "x = [0, 1, 2, 3, 4]  \n",
    "y1 = [10, 12, 10, 10, 12]\n",
    "y2 = [8, 9, 9, 11, 12]\n",
    "plt.plot(x, y1, label='Alice')\n",
    "plt.plot(x, y2, label='Bob')\n",
    "# your code here (plus you may need to modify the previous two lines)\n",
    "plt.xlabel('X-axis')\n",
    "plt.ylabel('Y-axis')\n",
    "plt.legend(loc = 'lower right')"
   ]
  },
  {
   "cell_type": "markdown",
   "metadata": {},
   "source": [
    "## Python Data Structures\n",
    "Here we introduce some of the popular built-in data structures in Python: list, set and dictionary.\n",
    "#### List"
   ]
  },
  {
   "cell_type": "code",
   "execution_count": 39,
   "metadata": {},
   "outputs": [
    {
     "name": "stdout",
     "output_type": "stream",
     "text": [
      "Add item 7 to the list\n",
      "[1, 5, 6, 3, 4, 0, 7]\n",
      "\n",
      "Remove item 4 from the list\n",
      "[1, 5, 6, 3, 0, 7]\n",
      "\n",
      "Insert item 3 at a position 2\n",
      "[1, 5, 3, 6, 3, 0, 7]\n",
      "\n"
     ]
    }
   ],
   "source": [
    "x=[1, 5, 6, 3, 4, 0]\n",
    "print 'Add item 7 to the list'\n",
    "x.append(7)\n",
    "print x\n",
    "print\n",
    "\n",
    "print 'Remove item 4 from the list'\n",
    "x.remove(4)\n",
    "print x\n",
    "print \n",
    "\n",
    "print 'Insert item 3 at a position 2'\n",
    "x.insert(2,3)\n",
    "print x\n",
    "print"
   ]
  },
  {
   "cell_type": "markdown",
   "metadata": {},
   "source": [
    "Now, it's your turn. Sort the list and then reverse the list. In the code cell below, type x.<TAB>, to find built-in operations that may help you out."
   ]
  },
  {
   "cell_type": "code",
   "execution_count": 40,
   "metadata": {},
   "outputs": [
    {
     "name": "stdout",
     "output_type": "stream",
     "text": [
      "Sorted list\n",
      "[0, 1, 3, 3, 5, 6, 7]\n",
      "\n",
      "Reversed list\n",
      "[7, 6, 5, 3, 3, 1, 0]\n",
      "\n"
     ]
    }
   ],
   "source": [
    "#your code here\n",
    "print \"Sorted list\"\n",
    "x.sort()\n",
    "print x\n",
    "print \n",
    "\n",
    "print \"Reversed list\"\n",
    "x.reverse()\n",
    "print x\n",
    "print \n"
   ]
  },
  {
   "cell_type": "markdown",
   "metadata": {},
   "source": [
    "#### Set \n",
    "A set is an unordered collection with no duplicate elements."
   ]
  },
  {
   "cell_type": "code",
   "execution_count": 41,
   "metadata": {},
   "outputs": [
    {
     "name": "stdout",
     "output_type": "stream",
     "text": [
      "set(['a', 1, 2, 'c'])\n",
      "set(['c', 4, 5, 'd'])\n",
      "\n",
      "Check if item a is in set s1\n",
      "True\n",
      "\n",
      "return union of s1 and s2\n",
      "set(['a', 1, 2, 4, 5, 'c', 'd'])\n",
      "\n",
      "return intersection of s1 and s2\n",
      "set(['c'])\n",
      "\n"
     ]
    }
   ],
   "source": [
    "s1=set([1,2,'a','c'])\n",
    "s2=set([4,5,'d','c'])\n",
    "print s1\n",
    "print s2\n",
    "print\n",
    "\n",
    "print 'Check if item a is in set s1'\n",
    "print 'a' in s1\n",
    "print\n",
    "\n",
    "print 'return union of s1 and s2'\n",
    "print s1.union(s2)\n",
    "print\n",
    "\n",
    "print 'return intersection of s1 and s2'\n",
    "print s1.intersection(s2)\n",
    "print"
   ]
  },
  {
   "cell_type": "markdown",
   "metadata": {},
   "source": [
    "Now it's your turn to try out .add(), .remove(), .issubset() and .issuperset() built-in operations and report the results. "
   ]
  },
  {
   "cell_type": "code",
   "execution_count": 42,
   "metadata": {},
   "outputs": [
    {
     "name": "stdout",
     "output_type": "stream",
     "text": [
      "Add item k to set s1\n",
      "set(['a', 1, 2, 'c', 'k'])\n",
      "\n",
      "Remove item 'd' from s2\n",
      "set(['c', 4, 5])\n",
      "\n",
      "Check if {1,2} is subset of s1\n",
      "True\n",
      "\n",
      "Check if {'c',5,6} is subset of s2\n",
      "False\n",
      "\n",
      "Check if s1 is superset of {'c','k'}\n",
      "True\n",
      "\n",
      "Check if s2 is superset of {'d'}\n",
      "False\n",
      "\n"
     ]
    }
   ],
   "source": [
    "#your code here\n",
    "print 'Add item k to set s1'\n",
    "s1.add('k')\n",
    "print s1\n",
    "print\n",
    "\n",
    "print 'Remove item \\'d\\' from s2'\n",
    "s2.remove('d')\n",
    "print s2\n",
    "print\n",
    "\n",
    "print 'Check if {1,2} is subset of s1'\n",
    "print {1,2}.issubset(s1)\n",
    "print\n",
    "\n",
    "print 'Check if {\\'c\\',5,6} is subset of s2'\n",
    "print {'c',5,6}.issubset(s2)\n",
    "print\n",
    "\n",
    "print 'Check if s1 is superset of {\\'c\\',\\'k\\'}'\n",
    "print s1.issuperset({'c','k'})\n",
    "print\n",
    "\n",
    "print 'Check if s2 is superset of {\\'d\\'}'\n",
    "print s2.issuperset({'d'})\n",
    "print"
   ]
  },
  {
   "cell_type": "markdown",
   "metadata": {},
   "source": [
    "#### Dictionary\n",
    "Unlike sequential data structures, which are indexed by a range of numbers, dictionaries are indexed by keys, which can be any type like strings and numbers.\n"
   ]
  },
  {
   "cell_type": "code",
   "execution_count": 43,
   "metadata": {},
   "outputs": [
    {
     "name": "stdout",
     "output_type": "stream",
     "text": [
      "{'fruit': ['apple', 'orange'], 'animal': ['cat', 'dog']}\n",
      "\n",
      "add food with value of soup\n",
      "{'food': ['soup'], 'fruit': ['apple', 'orange'], 'animal': ['cat', 'dog']}\n",
      "\n",
      "add value of banana into fruit\n",
      "{'food': ['soup'], 'fruit': ['apple', 'orange', 'banana'], 'animal': ['cat', 'dog']}\n"
     ]
    }
   ],
   "source": [
    "dic = {'fruit': ['apple', 'orange'], 'animal': ['cat', 'dog']}\n",
    "print dic\n",
    "print\n",
    "\n",
    "print 'add food with value of soup'\n",
    "dic['food']=['soup']\n",
    "print dic\n",
    "print\n",
    "\n",
    "print 'add value of banana into fruit'\n",
    "dic['fruit'].append('banana')\n",
    "print dic\n"
   ]
  },
  {
   "cell_type": "markdown",
   "metadata": {},
   "source": [
    "Create a dictionary where the keys are integer numbers from 0 to 10 and the corresponding values are the square of the key value.  "
   ]
  },
  {
   "cell_type": "code",
   "execution_count": 44,
   "metadata": {},
   "outputs": [
    {
     "name": "stdout",
     "output_type": "stream",
     "text": [
      "{0: 0, 1: 1, 2: 4, 3: 9, 4: 16, 5: 25, 6: 36, 7: 49, 8: 64, 9: 81, 10: 100}\n"
     ]
    }
   ],
   "source": [
    "# your code here\n",
    "dic = {}\n",
    "for index in range(0,11):\n",
    "    dic[index] = index**2\n",
    "print dic"
   ]
  },
  {
   "cell_type": "markdown",
   "metadata": {},
   "source": [
    "## Getting started with File Input & Output\n",
    "\n",
    "Python can easily handle reading and writing files. As far as Python is concerned, a file is just a string (often very large!) stored on your local file system, that you can read or write, gradually or all together.\n",
    "\n",
    "### Writing Files\n",
    "\n",
    "*open()* returns a file object, and is most commonly used with two arguments: *open(filename, mode)*."
   ]
  },
  {
   "cell_type": "code",
   "execution_count": 45,
   "metadata": {
    "collapsed": true
   },
   "outputs": [],
   "source": [
    "outFile = open('sample.txt', 'w')\n",
    "outFile.write('The first line\\nThe second line\\nThe third line\\n')\n",
    "outFile.close()"
   ]
  },
  {
   "cell_type": "markdown",
   "metadata": {},
   "source": [
    "The first line creates a file object, which links Python to your computer’s file system. The first parameter in the file constructor gives the file name, *sample.txt*. The second parameter indicates how you use the file. The 'w' is short for **w**rite. If the file already existed, the old contents are destroyed.\n",
    "\n",
    "And 'a' opens the file for **a**ppending; any data written to the file is automatically added to the end. 'r+' opens the file for both reading and writing.\n",
    "\n",
    "The *close* line is essential for Python to make sure everything is really written, and to relinquish control of the file."
   ]
  },
  {
   "cell_type": "markdown",
   "metadata": {},
   "source": [
    "### Methods of File Objects\n",
    "\n",
    "To read a file’s contents, call *f.read(size)*, which reads some quantity of data and returns it as a string. *size* is an optional numeric argument. When *size* is omitted or negative, the entire contents of the file will be read and returned."
   ]
  },
  {
   "cell_type": "code",
   "execution_count": 46,
   "metadata": {},
   "outputs": [
    {
     "data": {
      "text/plain": [
       "'The first line\\nThe second line\\nThe third line\\n'"
      ]
     },
     "execution_count": 46,
     "metadata": {},
     "output_type": "execute_result"
    }
   ],
   "source": [
    "outFile = open('sample.txt', 'r')\n",
    "outFile.read()"
   ]
  },
  {
   "cell_type": "markdown",
   "metadata": {},
   "source": [
    "For reading lines from a file, you can loop over the file object. This is memory efficient, fast, and leads to simple code:"
   ]
  },
  {
   "cell_type": "code",
   "execution_count": 47,
   "metadata": {},
   "outputs": [
    {
     "name": "stdout",
     "output_type": "stream",
     "text": [
      "The first line\n",
      "The second line\n",
      "The third line\n"
     ]
    }
   ],
   "source": [
    "outFile = open('sample.txt', 'r')\n",
    "for line in outFile:\n",
    "    print line,"
   ]
  },
  {
   "cell_type": "markdown",
   "metadata": {},
   "source": [
    "It is good practice to use the *with* keyword when dealing with file objects. This has the advantage that the file is properly closed after its suite finishes, even if an exception is raised on the way. It is also much shorter than writing equivalent try-finally blocks:"
   ]
  },
  {
   "cell_type": "code",
   "execution_count": 48,
   "metadata": {},
   "outputs": [
    {
     "data": {
      "text/plain": [
       "'The first line\\nThe second line\\nThe third line\\n'"
      ]
     },
     "execution_count": 48,
     "metadata": {},
     "output_type": "execute_result"
    }
   ],
   "source": [
    "with open('sample.txt', 'r') as f:\n",
    "    outFile = f.read()\n",
    "outFile"
   ]
  },
  {
   "cell_type": "code",
   "execution_count": 49,
   "metadata": {},
   "outputs": [
    {
     "data": {
      "text/plain": [
       "True"
      ]
     },
     "execution_count": 49,
     "metadata": {},
     "output_type": "execute_result"
    }
   ],
   "source": [
    "f.closed"
   ]
  },
  {
   "cell_type": "code",
   "execution_count": 50,
   "metadata": {
    "collapsed": true
   },
   "outputs": [],
   "source": [
    "with open('sample.txt', 'a') as f:\n",
    "    f.write('The fourth line\\n')"
   ]
  },
  {
   "cell_type": "code",
   "execution_count": 51,
   "metadata": {},
   "outputs": [
    {
     "name": "stdout",
     "output_type": "stream",
     "text": [
      "['The first line\\n', 'The second line\\n', 'The third line\\n', 'The fourth line\\n']\n"
     ]
    }
   ],
   "source": [
    "with open('sample.txt', 'r') as f:\n",
    "    print f.readlines()  # readlines – reads the entire file and returns it as a list of strings"
   ]
  },
  {
   "cell_type": "markdown",
   "metadata": {},
   "source": [
    "### Open a Remote File via URL\n",
    "\n",
    "Python can easily access the content of a webpage via its URL, and print out locally line-by-line without saving a local copy of the file. "
   ]
  },
  {
   "cell_type": "code",
   "execution_count": 52,
   "metadata": {},
   "outputs": [
    {
     "name": "stdout",
     "output_type": "stream",
     "text": [
      "<html><head> <TITLE>CSCE 670 :: Information Storage and Retrieval :: Spring 2018</TITLE> </head>\n",
      "\n",
      "\n",
      "\n",
      "<body bgcolor=white text=black link=blue vlink=blue alink=blue>\n",
      "\n",
      "\n",
      "\n",
      "\n",
      "\n",
      "<h1> CSCE 670 :: Information Storage and Retrieval :: Spring 2018 </h1> \n",
      "\n",
      "\n",
      "\n",
      "<dt>Tues/Thurs 9:35-10:50am in ETB 2005</dt>\n",
      "\n",
      "\n",
      "\n",
      "<br/>\n",
      "\n",
      "<dt> Instructor: <a href=\"http://faculty.cse.tamu.edu/caverlee/\">James Caverlee</a>,\n",
      "\n",
      "HRBB 403 <dt> Office Hours: Wednesday 2-4pm \n",
      "\n",
      "<dt>\n",
      "\n",
      "Department of <a href=\"http://www.cse.tamu.edu\">Computer Science and\n",
      "\n",
      "Engineering</a> <dt> <a href=\"http://www.tamu.edu\">Texas A&amp;M\n",
      "\n",
      "University</a>\n",
      "\n",
      "<dt><br/>\n",
      "\n",
      "<dt> TA: Parisa Kaghazgaran, 408D\n",
      "\n",
      "<dt> Office Hours: Monday 2-4pm and Wednesday 9-11am\n",
      "\n",
      "\n",
      "\n",
      "<dt>\n",
      "\n",
      "\n",
      "\n",
      "<p><a href=\"schedule.html\">Course Schedule</a> :: <a href=\"project.html\">Project</a> \n",
      "\n",
      "\n",
      "\n",
      "<hr>\n",
      "\n",
      "<H3><A NAME = \"summary\">Course Summary</a></H3> \n",
      "\n",
      "<P>\n",
      "\n",
      "\n",
      "\n",
      "<P> In this course, we'll study the theory, design, and implementation\n",
      "\n",
      "of text-based and Web-based information retrieval systems, including algorithms and techniques at the core of modern search and recommender systems. By the end of\n",
      "\n",
      "the semester you will be able to: \n",
      "\n",
      "\n",
      "\n",
      "<ul>\n",
      "\n",
      "<li>Define and explain the key concepts\n",
      "\n",
      "and models relevant to information storage and retrieval, including\n",
      "\n",
      "efficient text indexing, boolean, vector space and probabilistic\n",
      "\n",
      "retrieval models, relevance feedback, document clustering and text\n",
      "\n",
      "categorization, Web search, including crawling, indexing, and link-based\n",
      "\n",
      "algorithms like PageRank. \n",
      "\n",
      "\n",
      "\n",
      "<li>Design, implement, and evaluate the core\n",
      "\n",
      "algorithms underlying a fully functional web search system, including the\n",
      "\n",
      "indexing, retrieval, and ranking components, as well as advanced\n",
      "\n",
      "algorithms like document clustering and text categorization. \n",
      "\n",
      "\n",
      "\n",
      "<li>Identify the\n",
      "\n",
      "salient features and apply recent research results in web search and recommender systems, including topics such as collaborative filtering,\n",
      "\n",
      "adversarial information retrieval, matrix factorization, and social\n",
      "\n",
      "information management.\n",
      "\n",
      "</ul>\n",
      "\n",
      "\n",
      "\n",
      "\n",
      "\n",
      "\n",
      "\n",
      "\n",
      "\n",
      "<hr>\n",
      "\n",
      "<H3><A NAME = \"comm\">Communication</a></H3> \n",
      "\n",
      "<P> All course communication will be via <a href=\"https://piazza.com/tamu/spring2018/csce670/home\">Piazza</a>.  We will post often to Piazza, so you should plan to check it often (every day). \n",
      "\n",
      "\n",
      "\n",
      "<hr>\n",
      "\n",
      "<H3><A NAME = \"prereq\">Prerequisites</a></H3> \n",
      "\n",
      "<P> I expect all students to have had some previous exposure to basic probability, statistics, algorithms, and data structures. You should be able to design and develop large programs and learn new software libraries on your own. \n",
      "\n",
      "\n",
      "\n",
      "\t\n",
      "\n",
      "<hr>\n",
      "\n",
      "<H3><A NAME = \"textbooks\">Textbooks</a></H3> \n",
      "\n",
      "<P> The primary textbook is IIR: <i><a href=\"http://nlp.stanford.edu/IR-book/information-retrieval-book.html\">Introduction to Information Retrieval</a></i>, Christopher D. Manning, Prabhakar Raghavan, and Hinrich Schutze, Cambridge University Press. 2008. Available at <a href=\"http://www.cambridge.org/us/catalogue/catalogue.asp?isbn=9780521865715\">Cambridge University Press</a>, at <a href=\"http://www.amazon.com/Introduction-Information-Retrieval-Christopher-Manning/dp/0521865719\">Amazon</a>, and other fine booksellers.\n",
      "\n",
      "\n",
      "\n",
      "<p> We may also read some selections from:\n",
      "\n",
      "<ul>\n",
      "\n",
      "<li> MMD: <i><a href=\"http://www.mmds.org\">Mining of Massive Datasets</a></i>, Jure Leskovec, Anand Rajarman, and Jeff Ullman. \n",
      "\n",
      "<li> DITP: <i><a href=\"http://lintool.github.io/MapReduceAlgorithms/ed1n.html\">Data-Intensive Text Processing with MapReduce</i></a>, by Lin and Dyer, 2010.\n",
      "\n",
      "<li> NCM: <i><a href=\"http://www.cs.cornell.edu/home/kleinber/networks%2Dbook/\">Networks, Crowds, and Markets: Reasoning About a Highly Connected World</i></a>, David Easley and Jon Kleinberg, Cambridge University Press. 2010. \n",
      "\n",
      "<li> As well as several papers and other resources provided on Piazza.\n",
      "\n",
      "</ul>\n",
      "\n",
      "\n",
      "\n",
      "\n",
      "\n",
      "<p> You may find some of these optional textbooks helpful, though none are required:\n",
      "\n",
      "<ul>\n",
      "\n",
      "<li> <i>Modern Information Retrieval</i>, by Baeza-Yates and Ribeiro-Neto.\n",
      "\n",
      "<li> <i>Managing Gigabytes</i>, by Witten, Moffat, and Bell.\n",
      "\n",
      "<li> <i>Foundations of Statistical Natural Language Processing</i>, by Manning and Schutze.\n",
      "\n",
      "<li> <i>Search Engines: Information Retrieval in Practice</i>, by Croft, Metzler, and Strohman.\n",
      "\n",
      "</ul>\n",
      "\n",
      "\n",
      "\n",
      "\n",
      "\n",
      "<p><b>It is critically important that you study the relevant course readings before class so that we can make the most of our limited class time together.</b> I treat our class meetings as opportunities to highlight significant aspects of the material, to answer questions, to engage in discussions about particular topics, and so on. We cannot cover all of the material in class, so it is up to you to stay on top of the readings and the assignments.\n",
      "\n",
      "\n",
      "\n",
      "<hr>\n",
      "\n",
      "<H3><A NAME = \"grading\">Grading</a></H3> \n",
      "\n",
      "<p> The grading scale is A: 90-100, B: 80-89, C: 70-79, D: 60-69, F: 0-59. The course grading policy is as follows: \n",
      "\n",
      "\n",
      "\n",
      "<p>\n",
      "\n",
      "<b>In-Class Quick Quizzes (10%)</b>. Keeping up with the readings and attendance in class are both important to your success in the course. Hence we will have 10 in-class quick quizzes (5 to 10 minutes each) spread across the semester. Of those 10 quizzes, we will count just 7, meaning that you can miss up to 3 with no negative repercussions. Note that we do not expect you to memorize the readings; we just expect that you have done them and given them a reasonable pass. \n",
      "\n",
      "\n",
      "\n",
      "<p>\n",
      "\n",
      "<b>Discussion Posts (5%)</b>. We expect you to participate in online discussions at <a href=\"https://piazza.com/tamu/spring2018/csce670\">Piazza</a>. Over the course of the semester, you should <b>post at least two</b> times; these could be on topics related to the course, help with someone's homework question, etc. Towards your participation grade, the final day to post to the discussion group is April 18. (Of course you are welcome to continue to post afterwards, but these posts will not count toward your participation grade.)\n",
      "\n",
      "\n",
      "\n",
      "<p>\n",
      "\n",
      "<b>Exams (40%)</b>. We will have two in-class exams, each worth 20% of your overall grade. Both exams are closed book, however, you may bring <b>two</b> standard 8.5\" by 11\" pieces of paper with any notes you deem appropriate or significant (front and back). No calculators, iPads, iPhones, Android phones/tablets, or abacuses are allowed.</i>\n",
      "\n",
      "\n",
      "\n",
      "<p>\n",
      "\n",
      "<b>Homework (20%)</b>. We will have several homework assignments. These will be a mix of programming assignments and problem sets. All programming assignments will be in Python; we make no expectations that you have been exposed to Python before, but we do expect you to come up to speed rapidly.\n",
      "\n",
      "\n",
      "\n",
      "<p>All homework assignments must be submitted by 11:59pm Central time on the due date. For the homework assignments, you may talk to any other class member or work in groups to discuss the problems <b>in a general way</b>. However, your actual detailed solution must be yours alone. If you do talk to other students, you must write on your assignment who it is that you discussed the problems with. Your submitted work must be written solely by you and not contain work directly copied from others.\n",
      "\n",
      "\n",
      "\n",
      "<p><i>Homework Collaboration Clarification</i>: To clarify, your homework is yours alone and you are expected to complete each homework independently. Your solution should be written by you without the direct aid or help of anyone else. However, we believe that \tcollaboration and team work are important for facilitating learning, so we encourage you \tto discuss problems and general problem approaches (but not actual solutions) with your \tclassmates. If you do have a chat with another student about a homework problem, you \tmust inform us by writing a note on your homework submission (e.g., Bob pointed me to \tthe relevant section for problem 3). The basic rule is that no student should explicitly share a solution with another student (and thereby circumvent the basic learning process), but it is okay to share general approaches, directions, and so on. If you feel like you have an issue that needs clarification, feel free to contact either me or the TA.\n",
      "\n",
      "\n",
      "\n",
      "<p><i>Homework Plagiarism Policy</i>: We will use the <a href=\"http://theory.stanford.edu/~aiken/moss/\">Stanford Moss</a> system to check homework submissions for plagiarism. Students found to have engaged in plagiarism will be punished severely, typically earning an automatic F in the course and being reported to the Aggie Honor System.\n",
      "\n",
      "\n",
      "\n",
      "<p><i>Homework Late Days</i>: For the homework assignments, you have a total of <b>5 late days</b> that you can use during the semester. However, a single assignment can be submitted <b>up to 3 days late</b> only, so we can post solutions in a timely fashion. \n",
      "\n",
      "For the purposes of the class, a late day is an indivisible 24-hour unit. Once you exhaust your 5 late days, we will not accept any late submissions. \n",
      "\n",
      "\n",
      "\n",
      "\n",
      "\n",
      "<p><b>Project (25%)</b>. For the project, you will work in teams of three or four on a problem of your choosing that is interesting, significant, and relevant to this course. \n",
      "\n",
      "\n",
      "\n",
      "<hr>\n",
      "\n",
      "\n",
      "\n",
      "<p><b>Regrade Policy</b>: If you feel that we have made an error in grading, you may resubmit the assignment for a regrade. You must include a brief written statement describing what portion has been graded in error. (Hey, if you are reading this, here's a hint: we will have our first quick quiz on Thursday of the first week of class -- the answer to the first question is \"The Beatles\"). Note that we reserve the right to examine the entire assignment, so there is a chance we may find errors in your assignment that we missed before.\n",
      "\n",
      "\n",
      "\n",
      "<hr>\n",
      "\n",
      "\n",
      "\n",
      "<H3><A NAME = \"ada\">Americans with Disabilities Act (ADA) Policy\n",
      "\n",
      "Statement</a></H3> The Americans with Disabilities Act (ADA) is a federal anti-discrimination statute that provides comprehensive civil rights protection for persons with disabilities. Among other things, this legislation requires that all students with disabilities be guaranteed a learning environment that provides for reasonable accommodation of their disabilities. If you believe you have a disability requiring an accommodation, please contact Disability Services, currently located in the Disability Services building at the Student Services at White Creek complex on west campus or call 979-845-1637. For additional information, visit <a href=\"http://disability.tamu.edu\">http://disability.tamu.edu</a>.\n",
      "\n",
      "\n",
      "\n",
      "<H3><A NAME = \"honor\">Academic Integrity Statements</a></H3>\n",
      "\n",
      "\n",
      "\n",
      "AGGIE HONOR CODE:  ''An Aggie does not lie, cheat, or steal or tolerate\n",
      "\n",
      "those who do.'' Upon accepting admission to Texas A&M University, a\n",
      "\n",
      "student immediately assumes a commitment to uphold the Honor Code, to\n",
      "\n",
      "accept responsibility for learning, and to follow the philosophy and\n",
      "\n",
      "rules of the Honor System. Students will be required to state their\n",
      "\n",
      "commitment on examinations, research papers, and other academic work.\n",
      "\n",
      "Ignorance of the rules does not exclude any member of the TAMU community\n",
      "\n",
      "from the requirements or the processes of the Honor System. For\n",
      "\n",
      "additional information please visit: <a\n",
      "\n",
      "href=\"http://aggiehonor.tamu.edu\">http://aggiehonor.tamu.edu</a>\n",
      "\n",
      "\n",
      "\n",
      "\n",
      "\n",
      "<P> <BR> <BR>\n",
      "\n"
     ]
    }
   ],
   "source": [
    "import urllib2  # the lib that handles the url stuff\n",
    "\n",
    "url = \"http://courses.cse.tamu.edu/caverlee/csce670/\"\n",
    "\n",
    "# your code here: open the url. Hint: take a look at urllib2.urlopen\n",
    "content = urllib2.urlopen(url)\n",
    "# your code here: now print out each line\n",
    "for line in content:\n",
    "    print line\n",
    "\n"
   ]
  },
  {
   "cell_type": "markdown",
   "metadata": {},
   "source": [
    "## Counting Word Frequency\n",
    "\n",
    "One of the most fundamental tasks in information retrieval is to count the frequency of each word in a document.\n",
    "\n",
    "In the following example, we start with a string and split it into a list. We then create an (initially empty) list called *wordfreq*, go through each word in the *wordlist*, and count the number of times that word appears in the whole list. We then add each word’s count to our wordfreq list. Using the *zip* operation, we are able to match the first word of the word list with the first number in the frequency list, the second word and second frequency, and so on. We end up with a list of word and frequency pairs. The *str* function converts any object to a string so that it can be printed."
   ]
  },
  {
   "cell_type": "code",
   "execution_count": 53,
   "metadata": {},
   "outputs": [
    {
     "name": "stdout",
     "output_type": "stream",
     "text": [
      "String\n",
      "it was the best of times it was the worst of times it was the age of wisdom it was the age of foolishness\n",
      "\n",
      "List\n",
      "['it', 'was', 'the', 'best', 'of', 'times', 'it', 'was', 'the', 'worst', 'of', 'times', 'it', 'was', 'the', 'age', 'of', 'wisdom', 'it', 'was', 'the', 'age', 'of', 'foolishness']\n",
      "\n",
      "Frequencies\n",
      "[4, 4, 4, 1, 4, 2, 4, 4, 4, 1, 4, 2, 4, 4, 4, 2, 4, 1, 4, 4, 4, 2, 4, 1]\n",
      "\n",
      "Pairs\n",
      "{'of': 4, 'age': 2, 'it': 4, 'foolishness': 1, 'times': 2, 'worst': 1, 'the': 4, 'wisdom': 1, 'was': 4, 'best': 1}\n"
     ]
    }
   ],
   "source": [
    "wordstring = 'it was the best of times it was the worst of times '\n",
    "wordstring += 'it was the age of wisdom it was the age of foolishness'\n",
    "\n",
    "wordlist = wordstring.split()\n",
    "\n",
    "wordfreq = []\n",
    "for w in wordlist:\n",
    "    wordfreq.append(wordlist.count(w))\n",
    "\n",
    "print(\"String\\n\" + wordstring +\"\\n\")\n",
    "print(\"List\\n\" + str(wordlist) + \"\\n\")\n",
    "print(\"Frequencies\\n\" + str(wordfreq) + \"\\n\")\n",
    "print(\"Pairs\\n\" + str(dict(zip(wordlist, wordfreq))))"
   ]
  },
  {
   "cell_type": "markdown",
   "metadata": {},
   "source": [
    "Now, your job is to open up the url we mentioned a few cells above. Then output the word-frequency pairs in that url, sorted in order of descending frequency. In the case of ours Dickens example here, the output would look something like: [('of', 4), ('it', 4), ('the', 4), ('was', 4), ('age', 2), ('times', 2), ('foolishness', 1), ('worst', 1), ('wisdom', 1), ('best', 1)].\n",
    "\n",
    "Your job is to output a the word-frequency pairs for the url."
   ]
  },
  {
   "cell_type": "code",
   "execution_count": 54,
   "metadata": {},
   "outputs": [
    {
     "name": "stdout",
     "output_type": "stream",
     "text": [
      "List of words\n",
      "['csce', '670', '::', 'information', 'storage', 'and', 'retrieval', '::', 'spring', '2018', 'csce', '670', '::', 'information', 'storage', 'and', 'retrieval', '::', 'spring', '2018', 'tues/thurs', '9:35-10:50am', 'in', 'etb', '2005', 'instructor:', 'james', 'caverlee,', 'hrbb', '403', 'office', 'hours:', 'wednesday', '2-4pm', 'department', 'of', 'computer', 'science', 'and', 'engineering', 'texas', 'a&m', 'university', 'ta:', 'parisa', 'kaghazgaran,', '408d', 'office', 'hours:', 'monday', '2-4pm', 'and', 'wednesday', '9-11am', 'course', 'schedule', '::', 'project', 'course', 'summary', 'in', 'this', 'course,', \"we'll\", 'study', 'the', 'theory,', 'design,', 'and', 'implementation', 'of', 'text-based', 'and', 'web-based', 'information', 'retrieval', 'systems,', 'including', 'algorithms', 'and', 'techniques', 'at', 'the', 'core', 'of', 'modern', 'search', 'and', 'recommender', 'systems.', 'by', 'the', 'end', 'of', 'the', 'semester', 'you', 'will', 'be', 'able', 'to:', 'define', 'and', 'explain', 'the', 'key', 'concepts', 'and', 'models', 'relevant', 'to', 'information', 'storage', 'and', 'retrieval,', 'including', 'efficient', 'text', 'indexing,', 'boolean,', 'vector', 'space', 'and', 'probabilistic', 'retrieval', 'models,', 'relevance', 'feedback,', 'document', 'clustering', 'and', 'text', 'categorization,', 'web', 'search,', 'including', 'crawling,', 'indexing,', 'and', 'link-based', 'algorithms', 'like', 'pagerank.', 'design,', 'implement,', 'and', 'evaluate', 'the', 'core', 'algorithms', 'underlying', 'a', 'fully', 'functional', 'web', 'search', 'system,', 'including', 'the', 'indexing,', 'retrieval,', 'and', 'ranking', 'components,', 'as', 'well', 'as', 'advanced', 'algorithms', 'like', 'document', 'clustering', 'and', 'text', 'categorization.', 'identify', 'the', 'salient', 'features', 'and', 'apply', 'recent', 'research', 'results', 'in', 'web', 'search', 'and', 'recommender', 'systems,', 'including', 'topics', 'such', 'as', 'collaborative', 'filtering,', 'adversarial', 'information', 'retrieval,', 'matrix', 'factorization,', 'and', 'social', 'information', 'management.', 'communication', 'all', 'course', 'communication', 'will', 'be', 'via', 'piazza.', 'we', 'will', 'post', 'often', 'to', 'piazza,', 'so', 'you', 'should', 'plan', 'to', 'check', 'it', 'often', '(every', 'day).', 'prerequisites', 'i', 'expect', 'all', 'students', 'to', 'have', 'had', 'some', 'previous', 'exposure', 'to', 'basic', 'probability,', 'statistics,', 'algorithms,', 'and', 'data', 'structures.', 'you', 'should', 'be', 'able', 'to', 'design', 'and', 'develop', 'large', 'programs', 'and', 'learn', 'new', 'software', 'libraries', 'on', 'your', 'own.', 'textbooks', 'the', 'primary', 'textbook', 'is', 'iir:', 'introduction', 'to', 'information', 'retrieval,', 'christopher', 'd.', 'manning,', 'prabhakar', 'raghavan,', 'and', 'hinrich', 'schutze,', 'cambridge', 'university', 'press.', '2008.', 'available', 'at', 'cambridge', 'university', 'press,', 'at', 'amazon,', 'and', 'other', 'fine', 'booksellers.', 'we', 'may', 'also', 'read', 'some', 'selections', 'from:', 'mmd:', 'mining', 'of', 'massive', 'datasets,', 'jure', 'leskovec,', 'anand', 'rajarman,', 'and', 'jeff', 'ullman.', 'ditp:', 'data-intensive', 'text', 'processing', 'with', 'mapreduce,', 'by', 'lin', 'and', 'dyer,', '2010.', 'ncm:', 'networks,', 'crowds,', 'and', 'markets:', 'reasoning', 'about', 'a', 'highly', 'connected', 'world,', 'david', 'easley', 'and', 'jon', 'kleinberg,', 'cambridge', 'university', 'press.', '2010.', 'as', 'well', 'as', 'several', 'papers', 'and', 'other', 'resources', 'provided', 'on', 'piazza.', 'you', 'may', 'find', 'some', 'of', 'these', 'optional', 'textbooks', 'helpful,', 'though', 'none', 'are', 'required:', 'modern', 'information', 'retrieval,', 'by', 'baeza-yates', 'and', 'ribeiro-neto.', 'managing', 'gigabytes,', 'by', 'witten,', 'moffat,', 'and', 'bell.', 'foundations', 'of', 'statistical', 'natural', 'language', 'processing,', 'by', 'manning', 'and', 'schutze.', 'search', 'engines:', 'information', 'retrieval', 'in', 'practice,', 'by', 'croft,', 'metzler,', 'and', 'strohman.', 'it', 'is', 'critically', 'important', 'that', 'you', 'study', 'the', 'relevant', 'course', 'readings', 'before', 'class', 'so', 'that', 'we', 'can', 'make', 'the', 'most', 'of', 'our', 'limited', 'class', 'time', 'together.', 'i', 'treat', 'our', 'class', 'meetings', 'as', 'opportunities', 'to', 'highlight', 'significant', 'aspects', 'of', 'the', 'material,', 'to', 'answer', 'questions,', 'to', 'engage', 'in', 'discussions', 'about', 'particular', 'topics,', 'and', 'so', 'on.', 'we', 'cannot', 'cover', 'all', 'of', 'the', 'material', 'in', 'class,', 'so', 'it', 'is', 'up', 'to', 'you', 'to', 'stay', 'on', 'top', 'of', 'the', 'readings', 'and', 'the', 'assignments.', 'grading', 'the', 'grading', 'scale', 'is', 'a:', '90-100,', 'b:', '80-89,', 'c:', '70-79,', 'd:', '60-69,', 'f:', '0-59.', 'the', 'course', 'grading', 'policy', 'is', 'as', 'follows:', 'in-class', 'quick', 'quizzes', '(10%).', 'keeping', 'up', 'with', 'the', 'readings', 'and', 'attendance', 'in', 'class', 'are', 'both', 'important', 'to', 'your', 'success', 'in', 'the', 'course.', 'hence', 'we', 'will', 'have', '10', 'in-class', 'quick', 'quizzes', '(5', 'to', '10', 'minutes', 'each)', 'spread', 'across', 'the', 'semester.', 'of', 'those', '10', 'quizzes,', 'we', 'will', 'count', 'just', '7,', 'meaning', 'that', 'you', 'can', 'miss', 'up', 'to', '3', 'with', 'no', 'negative', 'repercussions.', 'note', 'that', 'we', 'do', 'not', 'expect', 'you', 'to', 'memorize', 'the', 'readings;', 'we', 'just', 'expect', 'that', 'you', 'have', 'done', 'them', 'and', 'given', 'them', 'a', 'reasonable', 'pass.', 'discussion', 'posts', '(5%).', 'we', 'expect', 'you', 'to', 'participate', 'in', 'online', 'discussions', 'at', 'piazza.', 'over', 'the', 'course', 'of', 'the', 'semester,', 'you', 'should', 'post', 'at', 'least', 'two', 'times;', 'these', 'could', 'be', 'on', 'topics', 'related', 'to', 'the', 'course,', 'help', 'with', \"someone's\", 'homework', 'question,', 'etc.', 'towards', 'your', 'participation', 'grade,', 'the', 'final', 'day', 'to', 'post', 'to', 'the', 'discussion', 'group', 'is', 'april', '18.', '(of', 'course', 'you', 'are', 'welcome', 'to', 'continue', 'to', 'post', 'afterwards,', 'but', 'these', 'posts', 'will', 'not', 'count', 'toward', 'your', 'participation', 'grade.)', 'exams', '(40%).', 'we', 'will', 'have', 'two', 'in-class', 'exams,', 'each', 'worth', '20%', 'of', 'your', 'overall', 'grade.', 'both', 'exams', 'are', 'closed', 'book,', 'however,', 'you', 'may', 'bring', 'two', 'standard', '8.5\"', 'by', '11\"', 'pieces', 'of', 'paper', 'with', 'any', 'notes', 'you', 'deem', 'appropriate', 'or', 'significant', '(front', 'and', 'back).', 'no', 'calculators,', 'ipads,', 'iphones,', 'android', 'phones/tablets,', 'or', 'abacuses', 'are', 'allowed.', 'homework', '(20%).', 'we', 'will', 'have', 'several', 'homework', 'assignments.', 'these', 'will', 'be', 'a', 'mix', 'of', 'programming', 'assignments', 'and', 'problem', 'sets.', 'all', 'programming', 'assignments', 'will', 'be', 'in', 'python;', 'we', 'make', 'no', 'expectations', 'that', 'you', 'have', 'been', 'exposed', 'to', 'python', 'before,', 'but', 'we', 'do', 'expect', 'you', 'to', 'come', 'up', 'to', 'speed', 'rapidly.', 'all', 'homework', 'assignments', 'must', 'be', 'submitted', 'by', '11:59pm', 'central', 'time', 'on', 'the', 'due', 'date.', 'for', 'the', 'homework', 'assignments,', 'you', 'may', 'talk', 'to', 'any', 'other', 'class', 'member', 'or', 'work', 'in', 'groups', 'to', 'discuss', 'the', 'problems', 'in', 'a', 'general', 'way.', 'however,', 'your', 'actual', 'detailed', 'solution', 'must', 'be', 'yours', 'alone.', 'if', 'you', 'do', 'talk', 'to', 'other', 'students,', 'you', 'must', 'write', 'on', 'your', 'assignment', 'who', 'it', 'is', 'that', 'you', 'discussed', 'the', 'problems', 'with.', 'your', 'submitted', 'work', 'must', 'be', 'written', 'solely', 'by', 'you', 'and', 'not', 'contain', 'work', 'directly', 'copied', 'from', 'others.', 'homework', 'collaboration', 'clarification:', 'to', 'clarify,', 'your', 'homework', 'is', 'yours', 'alone', 'and', 'you', 'are', 'expected', 'to', 'complete', 'each', 'homework', 'independently.', 'your', 'solution', 'should', 'be', 'written', 'by', 'you', 'without', 'the', 'direct', 'aid', 'or', 'help', 'of', 'anyone', 'else.', 'however,', 'we', 'believe', 'that', 'collaboration', 'and', 'team', 'work', 'are', 'important', 'for', 'facilitating', 'learning,', 'so', 'we', 'encourage', 'you', 'to', 'discuss', 'problems', 'and', 'general', 'problem', 'approaches', '(but', 'not', 'actual', 'solutions)', 'with', 'your', 'classmates.', 'if', 'you', 'do', 'have', 'a', 'chat', 'with', 'another', 'student', 'about', 'a', 'homework', 'problem,', 'you', 'must', 'inform', 'us', 'by', 'writing', 'a', 'note', 'on', 'your', 'homework', 'submission', '(e.g.,', 'bob', 'pointed', 'me', 'to', 'the', 'relevant', 'section', 'for', 'problem', '3).', 'the', 'basic', 'rule', 'is', 'that', 'no', 'student', 'should', 'explicitly', 'share', 'a', 'solution', 'with', 'another', 'student', '(and', 'thereby', 'circumvent', 'the', 'basic', 'learning', 'process),', 'but', 'it', 'is', 'okay', 'to', 'share', 'general', 'approaches,', 'directions,', 'and', 'so', 'on.', 'if', 'you', 'feel', 'like', 'you', 'have', 'an', 'issue', 'that', 'needs', 'clarification,', 'feel', 'free', 'to', 'contact', 'either', 'me', 'or', 'the', 'ta.', 'homework', 'plagiarism', 'policy:', 'we', 'will', 'use', 'the', 'stanford', 'moss', 'system', 'to', 'check', 'homework', 'submissions', 'for', 'plagiarism.', 'students', 'found', 'to', 'have', 'engaged', 'in', 'plagiarism', 'will', 'be', 'punished', 'severely,', 'typically', 'earning', 'an', 'automatic', 'f', 'in', 'the', 'course', 'and', 'being', 'reported', 'to', 'the', 'aggie', 'honor', 'system.', 'homework', 'late', 'days:', 'for', 'the', 'homework', 'assignments,', 'you', 'have', 'a', 'total', 'of', '5', 'late', 'days', 'that', 'you', 'can', 'use', 'during', 'the', 'semester.', 'however,', 'a', 'single', 'assignment', 'can', 'be', 'submitted', 'up', 'to', '3', 'days', 'late', 'only,', 'so', 'we', 'can', 'post', 'solutions', 'in', 'a', 'timely', 'fashion.', 'for', 'the', 'purposes', 'of', 'the', 'class,', 'a', 'late', 'day', 'is', 'an', 'indivisible', '24-hour', 'unit.', 'once', 'you', 'exhaust', 'your', '5', 'late', 'days,', 'we', 'will', 'not', 'accept', 'any', 'late', 'submissions.', 'project', '(25%).', 'for', 'the', 'project,', 'you', 'will', 'work', 'in', 'teams', 'of', 'three', 'or', 'four', 'on', 'a', 'problem', 'of', 'your', 'choosing', 'that', 'is', 'interesting,', 'significant,', 'and', 'relevant', 'to', 'this', 'course.', 'regrade', 'policy:', 'if', 'you', 'feel', 'that', 'we', 'have', 'made', 'an', 'error', 'in', 'grading,', 'you', 'may', 'resubmit', 'the', 'assignment', 'for', 'a', 'regrade.', 'you', 'must', 'include', 'a', 'brief', 'written', 'statement', 'describing', 'what', 'portion', 'has', 'been', 'graded', 'in', 'error.', '(hey,', 'if', 'you', 'are', 'reading', 'this,', \"here's\", 'a', 'hint:', 'we', 'will', 'have', 'our', 'first', 'quick', 'quiz', 'on', 'thursday', 'of', 'the', 'first', 'week', 'of', 'class', '--', 'the', 'answer', 'to', 'the', 'first', 'question', 'is', '\"the', 'beatles\").', 'note', 'that', 'we', 'reserve', 'the', 'right', 'to', 'examine', 'the', 'entire', 'assignment,', 'so', 'there', 'is', 'a', 'chance', 'we', 'may', 'find', 'errors', 'in', 'your', 'assignment', 'that', 'we', 'missed', 'before.', 'americans', 'with', 'disabilities', 'act', '(ada)', 'policy', 'statement', 'the', 'americans', 'with', 'disabilities', 'act', '(ada)', 'is', 'a', 'federal', 'anti-discrimination', 'statute', 'that', 'provides', 'comprehensive', 'civil', 'rights', 'protection', 'for', 'persons', 'with', 'disabilities.', 'among', 'other', 'things,', 'this', 'legislation', 'requires', 'that', 'all', 'students', 'with', 'disabilities', 'be', 'guaranteed', 'a', 'learning', 'environment', 'that', 'provides', 'for', 'reasonable', 'accommodation', 'of', 'their', 'disabilities.', 'if', 'you', 'believe', 'you', 'have', 'a', 'disability', 'requiring', 'an', 'accommodation,', 'please', 'contact', 'disability', 'services,', 'currently', 'located', 'in', 'the', 'disability', 'services', 'building', 'at', 'the', 'student', 'services', 'at', 'white', 'creek', 'complex', 'on', 'west', 'campus', 'or', 'call', '979-845-1637.', 'for', 'additional', 'information,', 'visit', 'http://disability.tamu.edu.', 'academic', 'integrity', 'statements', 'aggie', 'honor', 'code:', \"''an\", 'aggie', 'does', 'not', 'lie,', 'cheat,', 'or', 'steal', 'or', 'tolerate', 'those', 'who', \"do.''\", 'upon', 'accepting', 'admission', 'to', 'texas', 'a&m;', 'university,', 'a', 'student', 'immediately', 'assumes', 'a', 'commitment', 'to', 'uphold', 'the', 'honor', 'code,', 'to', 'accept', 'responsibility', 'for', 'learning,', 'and', 'to', 'follow', 'the', 'philosophy', 'and', 'rules', 'of', 'the', 'honor', 'system.', 'students', 'will', 'be', 'required', 'to', 'state', 'their', 'commitment', 'on', 'examinations,', 'research', 'papers,', 'and', 'other', 'academic', 'work.', 'ignorance', 'of', 'the', 'rules', 'does', 'not', 'exclude', 'any', 'member', 'of', 'the', 'tamu', 'community', 'from', 'the', 'requirements', 'or', 'the', 'processes', 'of', 'the', 'honor', 'system.', 'for', 'additional', 'information', 'please', 'visit:', 'http://aggiehonor.tamu.edu']\n",
      "\n",
      "Frequencies of words\n",
      "[2, 2, 5, 10, 3, 50, 5, 5, 2, 2, 2, 2, 5, 10, 3, 50, 5, 5, 2, 2, 1, 1, 20, 1, 1, 1, 1, 1, 1, 1, 2, 2, 2, 2, 1, 28, 1, 1, 50, 1, 2, 1, 4, 1, 1, 1, 1, 2, 2, 1, 2, 50, 2, 1, 8, 1, 5, 2, 8, 1, 20, 3, 2, 1, 2, 60, 1, 2, 50, 1, 28, 1, 50, 1, 10, 5, 2, 5, 4, 50, 1, 7, 60, 2, 28, 2, 4, 50, 2, 1, 11, 60, 1, 28, 60, 1, 38, 16, 14, 2, 1, 1, 50, 1, 60, 1, 1, 50, 1, 4, 46, 10, 3, 50, 5, 5, 1, 4, 3, 1, 1, 1, 50, 1, 5, 1, 1, 1, 2, 2, 50, 4, 1, 3, 1, 5, 1, 3, 50, 1, 4, 3, 1, 2, 1, 50, 1, 60, 2, 4, 1, 23, 1, 1, 3, 4, 1, 5, 60, 3, 5, 50, 1, 1, 7, 2, 7, 1, 4, 3, 2, 2, 50, 4, 1, 1, 60, 1, 1, 50, 1, 1, 2, 1, 20, 3, 4, 50, 2, 2, 5, 2, 1, 7, 1, 1, 1, 10, 5, 1, 1, 50, 1, 10, 1, 2, 6, 8, 2, 16, 14, 1, 3, 23, 16, 5, 2, 46, 1, 8, 38, 5, 1, 46, 2, 5, 2, 1, 1, 1, 2, 5, 6, 4, 46, 13, 1, 3, 1, 1, 46, 3, 1, 1, 1, 50, 1, 1, 38, 5, 14, 2, 46, 1, 50, 1, 1, 1, 50, 1, 1, 1, 1, 11, 15, 1, 2, 60, 1, 1, 15, 1, 1, 46, 10, 5, 1, 1, 1, 1, 1, 50, 1, 1, 3, 4, 2, 1, 1, 7, 3, 4, 1, 7, 1, 50, 6, 1, 1, 23, 6, 1, 1, 3, 1, 1, 1, 1, 28, 1, 1, 1, 1, 1, 1, 50, 1, 1, 1, 1, 4, 1, 12, 1, 11, 1, 50, 1, 2, 1, 1, 1, 50, 1, 1, 3, 23, 1, 1, 1, 1, 1, 50, 1, 1, 3, 4, 2, 2, 7, 2, 7, 2, 1, 50, 6, 1, 1, 11, 3, 38, 6, 2, 3, 28, 4, 1, 2, 1, 1, 1, 8, 1, 2, 10, 5, 11, 1, 50, 1, 1, 1, 11, 1, 1, 50, 1, 1, 28, 1, 1, 1, 1, 11, 1, 50, 1, 4, 1, 10, 5, 20, 1, 11, 1, 1, 50, 1, 5, 15, 1, 3, 18, 38, 2, 60, 4, 8, 3, 1, 6, 8, 18, 23, 5, 2, 60, 1, 28, 3, 1, 6, 2, 1, 2, 1, 3, 6, 1, 7, 1, 46, 1, 2, 1, 28, 60, 1, 46, 2, 1, 46, 1, 20, 2, 3, 1, 1, 50, 8, 2, 23, 1, 1, 6, 28, 60, 1, 20, 2, 8, 5, 15, 5, 46, 38, 46, 1, 11, 1, 28, 60, 3, 50, 60, 2, 3, 60, 3, 1, 15, 1, 1, 1, 1, 1, 1, 1, 1, 1, 1, 60, 8, 3, 2, 15, 7, 1, 3, 3, 2, 1, 1, 5, 12, 60, 3, 50, 1, 20, 6, 8, 2, 3, 46, 15, 1, 20, 60, 2, 1, 23, 16, 13, 3, 3, 3, 2, 1, 46, 3, 1, 1, 1, 1, 60, 2, 28, 2, 3, 1, 23, 16, 2, 2, 1, 1, 18, 38, 5, 1, 5, 46, 2, 12, 4, 1, 1, 3, 18, 23, 4, 7, 5, 38, 46, 1, 60, 1, 23, 2, 5, 18, 38, 13, 1, 2, 50, 1, 2, 23, 2, 1, 2, 2, 1, 23, 5, 38, 46, 1, 20, 1, 2, 7, 3, 1, 60, 8, 28, 60, 1, 38, 5, 5, 7, 1, 3, 1, 4, 1, 14, 11, 2, 1, 46, 60, 2, 2, 12, 1, 14, 1, 1, 1, 15, 2, 1, 60, 1, 2, 46, 5, 46, 60, 2, 1, 15, 1, 1, 1, 8, 38, 8, 1, 46, 1, 46, 5, 1, 3, 4, 2, 16, 7, 2, 1, 15, 2, 1, 2, 1, 23, 16, 13, 3, 3, 1, 2, 1, 1, 28, 15, 1, 1, 2, 2, 8, 1, 1, 4, 38, 6, 1, 3, 1, 1, 11, 1, 1, 28, 1, 12, 4, 1, 38, 1, 1, 10, 2, 1, 50, 1, 4, 1, 1, 1, 1, 1, 10, 1, 8, 1, 14, 1, 23, 16, 13, 2, 14, 2, 4, 16, 14, 23, 1, 28, 2, 3, 50, 4, 1, 6, 2, 3, 16, 14, 20, 1, 23, 2, 4, 1, 18, 38, 13, 2, 1, 46, 1, 1, 3, 23, 4, 5, 38, 46, 1, 5, 46, 1, 1, 6, 14, 3, 6, 14, 3, 11, 1, 1, 2, 11, 60, 1, 1, 13, 60, 14, 2, 38, 6, 2, 46, 4, 6, 6, 2, 10, 5, 20, 1, 46, 2, 60, 3, 20, 23, 3, 1, 4, 15, 2, 1, 3, 6, 14, 2, 1, 6, 38, 4, 2, 46, 6, 1, 38, 6, 1, 11, 15, 4, 2, 5, 15, 18, 38, 1, 60, 3, 1, 15, 3, 5, 6, 14, 3, 1, 11, 38, 50, 7, 1, 5, 1, 1, 2, 1, 14, 2, 1, 46, 1, 15, 14, 15, 2, 1, 50, 38, 8, 1, 46, 1, 2, 14, 1, 15, 3, 5, 14, 3, 11, 38, 1, 60, 1, 1, 10, 2, 28, 1, 1, 4, 23, 2, 18, 2, 50, 1, 5, 8, 3, 13, 1, 2, 8, 23, 1, 38, 46, 2, 3, 50, 3, 4, 1, 1, 7, 2, 1, 12, 15, 1, 6, 38, 4, 13, 23, 1, 12, 2, 5, 3, 23, 14, 1, 38, 6, 1, 1, 11, 1, 23, 3, 11, 15, 14, 1, 1, 1, 1, 2, 46, 60, 4, 1, 13, 4, 1, 60, 3, 1, 15, 18, 4, 5, 5, 1, 2, 23, 3, 12, 2, 5, 1, 1, 1, 60, 3, 2, 1, 3, 5, 15, 1, 46, 2, 3, 1, 1, 50, 8, 2, 6, 38, 3, 3, 38, 13, 5, 1, 18, 1, 1, 3, 1, 46, 2, 1, 2, 10, 60, 1, 14, 2, 2, 23, 16, 2, 60, 1, 1, 1, 46, 2, 14, 1, 13, 1, 4, 1, 46, 13, 1, 20, 2, 16, 14, 1, 1, 1, 1, 5, 1, 1, 20, 60, 8, 50, 1, 1, 46, 60, 3, 5, 3, 14, 6, 1, 13, 60, 14, 2, 38, 13, 23, 1, 28, 2, 6, 2, 18, 38, 5, 2, 1, 60, 2, 4, 23, 1, 4, 5, 14, 3, 5, 46, 2, 2, 6, 1, 8, 23, 5, 5, 1, 20, 23, 1, 1, 13, 60, 1, 28, 60, 2, 23, 6, 2, 15, 5, 1, 1, 1, 1, 38, 1, 15, 2, 6, 1, 23, 16, 7, 2, 4, 6, 1, 2, 1, 13, 60, 1, 38, 16, 5, 20, 1, 28, 1, 10, 1, 11, 23, 4, 28, 15, 1, 18, 15, 1, 1, 50, 4, 46, 3, 2, 1, 2, 6, 38, 3, 18, 23, 13, 1, 5, 1, 20, 1, 38, 6, 1, 60, 4, 13, 23, 1, 38, 6, 1, 23, 1, 3, 2, 1, 1, 1, 1, 2, 1, 20, 1, 1, 6, 38, 8, 1, 1, 1, 23, 1, 23, 16, 13, 3, 3, 3, 1, 11, 1, 28, 60, 3, 1, 28, 6, 1, 60, 2, 46, 60, 3, 1, 15, 1, 1, 3, 18, 23, 1, 60, 1, 46, 1, 60, 1, 1, 8, 1, 15, 23, 1, 23, 6, 2, 1, 20, 15, 4, 18, 23, 1, 1, 2, 12, 3, 2, 2, 2, 2, 60, 2, 12, 3, 2, 2, 15, 23, 1, 1, 1, 18, 2, 1, 1, 1, 1, 13, 1, 12, 2, 1, 6, 1, 3, 1, 1, 18, 6, 4, 12, 3, 14, 1, 23, 2, 1, 18, 2, 13, 2, 1, 28, 2, 2, 6, 38, 2, 38, 13, 23, 3, 1, 5, 1, 2, 2, 3, 1, 1, 1, 20, 60, 3, 2, 1, 7, 60, 5, 2, 7, 1, 1, 1, 11, 1, 1, 10, 1, 1, 13, 2, 1, 1, 1, 2, 1, 1, 3, 5, 1, 1, 3, 2, 7, 1, 1, 10, 1, 10, 1, 2, 2, 1, 1, 1, 1, 46, 2, 1, 1, 23, 5, 1, 1, 23, 2, 46, 1, 60, 5, 1, 46, 2, 1, 13, 2, 50, 46, 1, 60, 1, 50, 2, 28, 60, 5, 3, 4, 16, 14, 1, 46, 1, 2, 2, 11, 1, 2, 1, 50, 6, 2, 1, 1, 28, 60, 2, 2, 7, 1, 4, 2, 28, 60, 1, 1, 2, 60, 1, 10, 60, 1, 28, 60, 5, 3, 13, 2, 10, 2, 1, 1]\n",
      "\n",
      "Pairs of words and frequencies (unsorted)\n",
      "[('limited', 1), ('all', 6), ('results', 1), ('regrade', 1), ('four', 1), ('witten,', 1), ('anand', 1), ('::', 5), ('boolean,', 1), ('follow', 1), ('integrity', 1), ('reasoning', 1), ('uphold', 1), ('disability', 3), ('opportunities', 1), ('environment', 1), ('to', 46), ('severely,', 1), ('questions,', 1), ('worth', 1), ('resources', 1), ('piazza.', 3), ('piazza,', 1), ('markets:', 1), ('question,', 1), ('none', 1), ('rajarman,', 1), ('plagiarism.', 1), ('timely', 1), ('entire', 1), (\"we'll\", 1), ('--', 1), ('notes', 1), ('rights', 1), ('posts', 2), ('wednesday', 2), ('large', 1), ('assignments', 3), ('vector', 1), ('services,', 1), ('team', 1), ('quick', 3), (\"do.''\", 1), ('back).', 1), ('facilitating', 1), ('core', 2), ('else.', 1), ('requirements', 1), ('okay', 1), ('direct', 1), ('9-11am', 1), ('link-based', 1), ('allowed.', 1), ('others.', 1), ('web-based', 1), ('what', 1), ('errors', 1), ('section', 1), ('brief', 1), ('new', 1), ('booksellers.', 1), ('kaghazgaran,', 1), ('ullman.', 1), ('afterwards,', 1), ('concepts', 1), ('classmates.', 1), ('reported', 1), ('components,', 1), ('groups', 1), ('jure', 1), ('iphones,', 1), ('search', 4), ('engage', 1), ('indivisible', 1), ('study', 2), ('exams', 2), ('social', 1), ('bob', 1), (\"someone's\", 1), ('honor', 5), ('error.', 1), ('via', 1), ('crowds,', 1), ('reserve', 1), ('requiring', 1), ('highly', 1), ('caverlee,', 1), ('semester', 1), ('thursday', 1), ('hint:', 1), ('apply', 1), ('total', 1), ('circumvent', 1), ('use', 2), ('attendance', 1), ('from', 2), ('visit', 1), ('text-based', 1), ('dyer,', 1), ('resubmit', 1), ('call', 1), ('cheat,', 1), ('particular', 1), ('foundations', 1), ('algorithms,', 1), ('must', 6), ('me', 2), ('keeping', 1), ('plagiarism', 2), ('lie,', 1), ('language', 1), ('f', 1), ('this', 3), ('science', 1), ('work', 5), ('abacuses', 1), ('can', 5), ('learn', 1), ('hours:', 2), ('do', 4), ('f:', 1), ('share', 2), ('purposes', 1), ('accept', 2), ('pieces', 1), ('engines:', 1), ('http://aggiehonor.tamu.edu', 1), ('exclude', 1), ('statistics,', 1), ('information', 10), ('class,', 2), ('end', 1), ('memorize', 1), ('discussion', 2), ('independently.', 1), (\"''an\", 1), ('write', 1), ('located', 1), ('actual', 2), ('responsibility', 1), ('answer', 2), ('9:35-10:50am', 1), ('70-79,', 1), ('protection', 1), ('may', 6), ('croft,', 1), ('philosophy', 1), ('needs', 1), ('ta:', 1), ('follows:', 1), ('amazon,', 1), ('fashion.', 1), ('such', 1), ('ta.', 1), ('data', 1), ('a', 23), ('natural', 1), ('prerequisites', 1), ('metzler,', 1), ('accommodation,', 1), ('3).', 1), ('inform', 1), ('so', 8), ('first', 3), ('data-intensive', 1), ('retrieval', 5), ('talk', 2), ('help', 2), ('office', 2), ('policy:', 2), ('material,', 1), ('mapreduce,', 1), ('course', 8), ('times;', 1), ('including', 5), ('statistical', 1), ('during', 1), ('phones/tablets,', 1), ('design,', 2), ('before', 1), ('group', 1), ('csce', 2), ('course.', 2), ('expectations', 1), ('course,', 2), ('writing', 1), ('late', 6), ('403', 1), ('2018', 2), ('policy', 2), ('hinrich', 1), ('texas', 2), ('them', 2), ('thereby', 1), ('python', 1), ('material', 1), ('clarification:', 1), ('commitment', 2), ('not', 7), ('clarification,', 1), ('day', 2), ('document', 2), ('system.', 3), ('james', 1), ('university', 4), ('reasonable', 2), ('each', 2), ('found', 1), ('(but', 1), ('another', 2), ('examinations,', 1), ('60-69,', 1), ('easley', 1), ('expect', 5), ('our', 3), ('teams', 1), ('matrix', 1), ('space', 1), ('research', 2), ('include', 1), ('encourage', 1), ('(e.g.,', 1), ('americans', 2), ('comprehensive', 1), ('issue', 1), ('interesting,', 1), ('written', 3), ('book,', 1), ('beatles\").', 1), ('free', 1), ('standard', 1), ('directions,', 1), ('approaches', 1), ('regrade.', 1), ('accommodation', 1), ('a&m', 1), ('categorization,', 1), ('categorization.', 1), ('selections', 1), ('steal', 1), ('could', 1), ('programming', 2), ('days', 2), ('david', 1), ('day).', 1), ('massive', 1), ('pagerank.', 1), ('hence', 1), ('retrieval,', 5), ('learning,', 2), ('there', 1), ('features', 1), ('structures.', 1), ('feel', 3), ('legislation', 1), ('primary', 1), ('welcome', 1), ('done', 1), ('directly', 1), ('miss', 1), ('anyone', 1), ('given', 1), ('salient', 1), ('introduction', 1), ('top', 1), ('18.', 1), ('system', 1), ('least', 1), ('mmd:', 1), ('their', 2), ('statement', 2), ('white', 1), ('final', 1), ('feedback,', 1), ('on.', 2), ('that', 18), ('2008.', 1), ('networks,', 1), ('believe', 2), (\"here's\", 1), ('from:', 1), ('to:', 1), ('10', 3), ('critically', 1), ('submitted', 3), ('project', 2), ('solutions)', 1), ('design', 1), ('toward', 1), ('solely', 1), ('and', 50), ('pointed', 1), ('semester,', 1), ('http://disability.tamu.edu.', 1), ('search,', 1), ('topics', 2), ('modern', 2), ('mining', 1), ('(and', 1), ('kleinberg,', 1), ('have', 13), ('crawling,', 1), ('any', 4), ('recommender', 2), ('efficient', 1), ('lin', 1), ('able', 2), ('note', 3), ('also', 1), ('contact', 2), ('online', 1), ('algorithms', 4), ('ncm:', 1), ('towards', 1), ('grading,', 1), ('though', 1), ('raghavan,', 1), ('collaboration', 2), ('7,', 1), ('assignments.', 2), ('assignments,', 2), ('most', 1), ('hrbb', 1), ('connected', 1), ('plan', 1), ('significant', 2), ('services', 2), ('accepting', 1), ('models,', 1), ('probabilistic', 1), ('class', 6), ('statute', 1), ('(ada)', 2), ('process),', 1), ('cover', 1), ('missed', 1), ('typically', 1), ('alone.', 1), ('d.', 1), ('text', 4), ('meetings', 1), ('bring', 1), ('d:', 1), ('solutions', 1), ('participate', 1), ('fine', 1), ('find', 2), ('with.', 1), ('gigabytes,', 1), ('(25%).', 1), ('implementation', 1), ('explain', 1), ('sets.', 1), ('should', 5), ('explicitly', 1), ('information,', 1), ('(every', 1), ('in-class', 3), ('ranking', 1), ('over', 1), ('quizzes', 2), ('overall', 1), ('code,', 1), ('pass.', 1), ('cannot', 1), ('christopher', 1), ('baeza-yates', 1), ('processes', 1), ('disabilities.', 2), ('textbooks', 2), ('stanford', 1), ('summary', 1), ('paper', 1), ('contain', 1), ('(hey,', 1), ('automatic', 1), ('press,', 1), ('press.', 2), ('90-100,', 1), ('this,', 1), ('manning', 1), ('computer', 1), ('are', 8), ('discussions', 2), ('techniques', 1), ('assignment,', 1), ('managing', 1), ('currently', 1), ('please', 2), ('libraries', 1), ('3', 2), ('closed', 1), ('reading', 1), ('across', 1), ('date.', 1), ('available', 1), ('we', 23), ('days:', 1), ('ignorance', 1), ('days,', 1), ('key', 1), ('aggie', 3), ('optional', 1), ('jon', 1), ('both', 2), ('clarify,', 1), ('etc.', 1), ('etb', 1), ('april', 1), ('iir:', 1), ('(front', 1), ('way.', 1), ('significant,', 1), ('however,', 4), ('among', 1), ('relevant', 4), ('jeff', 1), ('guaranteed', 1), ('anti-discrimination', 1), ('community', 1), ('rapidly.', 1), ('alone', 1), ('together.', 1), ('0-59.', 1), ('a&m;', 1), ('earning', 1), ('come', 1), ('own.', 1), ('due', 1), ('been', 2), ('quiz', 1), ('punished', 1), ('treat', 1), ('basic', 3), ('expected', 1), ('copied', 1), ('ditp:', 1), ('each)', 1), ('moffat,', 1), ('(20%).', 1), ('readings', 3), ('c:', 1), ('an', 5), ('those', 2), ('these', 4), ('tolerate', 1), ('engineering', 1), ('will', 16), ('problem,', 1), ('world,', 1), ('error', 1), ('papers,', 1), ('aid', 1), ('ipads,', 1), ('leskovec,', 1), ('is', 15), ('engaged', 1), ('it', 5), ('topics,', 1), ('11:59pm', 1), ('in', 20), ('management.', 1), ('if', 6), ('parisa', 1), ('develop', 1), ('make', 2), ('submissions.', 1), ('practice,', 1), ('submission', 1), ('who', 2), ('campus', 1), ('member', 2), ('rules', 2), ('complex', 1), ('2005', 1), ('filtering,', 1), ('calculators,', 1), ('android', 1), ('several', 2), ('solution', 3), ('implement,', 1), ('week', 1), ('exhaust', 1), ('assignment', 4), ('upon', 1), ('persons', 1), ('408d', 1), ('two', 3), ('student', 5), ('grade.', 1), ('single', 1), ('recent', 1), ('bell.', 1), ('unit.', 1), ('programs', 1), ('i', 2), ('semester.', 2), ('no', 4), ('well', 2), ('academic', 2), ('without', 1), ('the', 60), ('yours', 2), ('project,', 1), ('instructor:', 1), ('graded', 1), ('just', 2), ('being', 1), ('only,', 1), ('schutze.', 1), ('schutze,', 1), ('ribeiro-neto.', 1), ('underlying', 1), ('identify', 1), ('speed', 1), ('previous', 1), ('web', 3), ('prabhakar', 1), ('work.', 1), ('mix', 1), ('admission', 1), ('had', 1), ('tues/thurs', 1), ('discuss', 2), ('spread', 1), ('80-89,', 1), ('relevance', 1), ('has', 1), ('submissions', 1), ('homework', 14), ('aspects', 1), ('probability,', 1), ('read', 1), ('evaluate', 1), ('670', 2), ('grade,', 1), ('(5', 1), ('2-4pm', 2), ('python;', 1), ('immediately', 1), ('required:', 1), ('advanced', 1), ('(of', 1), ('like', 3), ('success', 1), ('continue', 1), ('either', 1), ('fully', 1), ('system,', 1), ('right', 1), ('often', 2), ('11\"', 1), ('spring', 2), ('some', 3), ('(40%).', 1), ('979-845-1637.', 1), ('choosing', 1), ('b:', 1), ('before,', 1), ('provided', 1), ('before.', 1), ('scale', 1), ('processing,', 1), ('monday', 1), ('for', 13), ('grading', 3), ('approaches,', 1), ('models', 1), ('does', 2), ('repercussions.', 1), ('provides', 2), ('three', 1), ('participation', 2), ('2010.', 2), ('be', 14), ('factorization,', 1), ('schedule', 1), ('processing', 1), ('24-hour', 1), ('post', 5), ('by', 11), ('on', 11), ('about', 3), ('central', 1), ('of', 28), ('disabilities', 3), ('discussed', 1), ('chance', 1), ('learning', 2), ('act', 2), ('20%', 1), ('exams,', 1), ('or', 10), ('software', 1), ('cambridge', 3), ('statements', 1), ('moss', 1), ('university,', 1), ('civil', 1), ('communication', 2), ('functional', 1), ('negative', 1), ('appropriate', 1), ('8.5\"', 1), ('federal', 1), ('your', 15), ('creek', 1), ('clustering', 2), ('theory,', 1), ('datasets,', 1), ('additional', 2), ('exposed', 1), ('question', 1), ('adversarial', 1), ('systems.', 1), ('systems,', 2), ('grade.)', 1), ('quizzes,', 1), ('assumes', 1), ('tamu', 1), ('complete', 1), ('examine', 1), ('but', 3), ('state', 1), ('related', 1), ('with', 12), ('count', 2), ('made', 1), ('students,', 1), ('manning,', 1), ('(10%).', 1), ('up', 5), ('us', 1), ('west', 1), ('highlight', 1), ('problem', 4), ('define', 1), ('minutes', 1), ('detailed', 1), ('helpful,', 1), ('visit:', 1), ('textbook', 1), ('general', 3), ('as', 7), ('deem', 1), ('at', 7), ('chat', 1), ('check', 2), ('readings;', 1), ('storage', 3), ('other', 6), ('5', 2), ('papers', 1), ('department', 1), ('you', 38), ('collaborative', 1), ('students', 4), ('strohman.', 1), ('problems', 3), ('stay', 1), ('things,', 1), ('meaning', 1), ('important', 3), ('describing', 1), ('a:', 1), ('exposure', 1), ('building', 1), ('(5%).', 1), ('indexing,', 3), ('code:', 1), ('required', 1), ('rule', 1), ('portion', 1), ('time', 2), ('\"the', 1), ('requires', 1), ('once', 1)]\n",
      "\n",
      "Pairs of words and frequencies (sorted)\n",
      "[('the', 60), ('and', 50), ('to', 46), ('you', 38), ('of', 28), ('we', 23), ('a', 23), ('in', 20), ('that', 18), ('will', 16), ('your', 15), ('is', 15), ('be', 14), ('homework', 14), ('for', 13), ('have', 13), ('with', 12), ('on', 11), ('by', 11), ('or', 10), ('information', 10), ('are', 8), ('course', 8), ('so', 8), ('at', 7), ('as', 7), ('not', 7), ('other', 6), ('if', 6), ('class', 6), ('late', 6), ('may', 6), ('must', 6), ('all', 6), ('up', 5), ('post', 5), ('student', 5), ('it', 5), ('an', 5), ('should', 5), ('retrieval,', 5), ('expect', 5), ('including', 5), ('retrieval', 5), ('can', 5), ('work', 5), ('honor', 5), ('::', 5), ('students', 4), ('problem', 4), ('no', 4), ('assignment', 4), ('these', 4), ('relevant', 4), ('however,', 4), ('text', 4), ('algorithms', 4), ('any', 4), ('university', 4), ('do', 4), ('search', 4), ('indexing,', 3), ('important', 3), ('problems', 3), ('storage', 3), ('general', 3), ('but', 3), ('cambridge', 3), ('disabilities', 3), ('about', 3), ('grading', 3), ('some', 3), ('like', 3), ('web', 3), ('two', 3), ('solution', 3), ('readings', 3), ('basic', 3), ('aggie', 3), ('in-class', 3), ('note', 3), ('submitted', 3), ('10', 3), ('feel', 3), ('written', 3), ('our', 3), ('system.', 3), ('first', 3), ('this', 3), ('quick', 3), ('assignments', 3), ('piazza.', 3), ('disability', 3), ('time', 2), ('5', 2), ('check', 2), ('count', 2), ('systems,', 2), ('additional', 2), ('clustering', 2), ('communication', 2), ('act', 2), ('learning', 2), ('2010.', 2), ('participation', 2), ('provides', 2), ('does', 2), ('spring', 2), ('often', 2), ('2-4pm', 2), ('670', 2), ('discuss', 2), ('just', 2), ('yours', 2), ('academic', 2), ('well', 2), ('semester.', 2), ('i', 2), ('several', 2), ('rules', 2), ('member', 2), ('who', 2), ('make', 2), ('those', 2), ('been', 2), ('both', 2), ('3', 2), ('please', 2), ('discussions', 2), ('press.', 2), ('textbooks', 2), ('disabilities.', 2), ('quizzes', 2), ('find', 2), ('(ada)', 2), ('services', 2), ('significant', 2), ('assignments,', 2), ('assignments.', 2), ('collaboration', 2), ('contact', 2), ('able', 2), ('recommender', 2), ('modern', 2), ('topics', 2), ('project', 2), ('believe', 2), ('on.', 2), ('statement', 2), ('their', 2), ('learning,', 2), ('days', 2), ('programming', 2), ('americans', 2), ('research', 2), ('another', 2), ('each', 2), ('reasonable', 2), ('document', 2), ('day', 2), ('commitment', 2), ('them', 2), ('texas', 2), ('policy', 2), ('2018', 2), ('course,', 2), ('course.', 2), ('csce', 2), ('design,', 2), ('policy:', 2), ('office', 2), ('help', 2), ('talk', 2), ('answer', 2), ('actual', 2), ('discussion', 2), ('class,', 2), ('accept', 2), ('share', 2), ('hours:', 2), ('plagiarism', 2), ('me', 2), ('from', 2), ('use', 2), ('exams', 2), ('study', 2), ('core', 2), ('wednesday', 2), ('posts', 2), ('once', 1), ('requires', 1), ('\"the', 1), ('portion', 1), ('rule', 1), ('required', 1), ('code:', 1), ('(5%).', 1), ('building', 1), ('exposure', 1), ('a:', 1), ('describing', 1), ('meaning', 1), ('things,', 1), ('stay', 1), ('strohman.', 1), ('collaborative', 1), ('department', 1), ('papers', 1), ('readings;', 1), ('chat', 1), ('deem', 1), ('textbook', 1), ('visit:', 1), ('helpful,', 1), ('detailed', 1), ('minutes', 1), ('define', 1), ('highlight', 1), ('west', 1), ('us', 1), ('(10%).', 1), ('manning,', 1), ('students,', 1), ('made', 1), ('related', 1), ('state', 1), ('examine', 1), ('complete', 1), ('tamu', 1), ('assumes', 1), ('quizzes,', 1), ('grade.)', 1), ('systems.', 1), ('adversarial', 1), ('question', 1), ('exposed', 1), ('datasets,', 1), ('theory,', 1), ('creek', 1), ('federal', 1), ('8.5\"', 1), ('appropriate', 1), ('negative', 1), ('functional', 1), ('civil', 1), ('university,', 1), ('moss', 1), ('statements', 1), ('software', 1), ('exams,', 1), ('20%', 1), ('chance', 1), ('discussed', 1), ('central', 1), ('24-hour', 1), ('processing', 1), ('schedule', 1), ('factorization,', 1), ('three', 1), ('repercussions.', 1), ('models', 1), ('approaches,', 1), ('monday', 1), ('processing,', 1), ('scale', 1), ('before.', 1), ('provided', 1), ('before,', 1), ('b:', 1), ('choosing', 1), ('979-845-1637.', 1), ('(40%).', 1), ('11\"', 1), ('right', 1), ('system,', 1), ('fully', 1), ('either', 1), ('continue', 1), ('success', 1), ('(of', 1), ('advanced', 1), ('required:', 1), ('immediately', 1), ('python;', 1), ('(5', 1), ('grade,', 1), ('evaluate', 1), ('read', 1), ('probability,', 1), ('aspects', 1), ('submissions', 1), ('has', 1), ('relevance', 1), ('80-89,', 1), ('spread', 1), ('tues/thurs', 1), ('had', 1), ('admission', 1), ('mix', 1), ('work.', 1), ('prabhakar', 1), ('previous', 1), ('speed', 1), ('identify', 1), ('underlying', 1), ('ribeiro-neto.', 1), ('schutze,', 1), ('schutze.', 1), ('only,', 1), ('being', 1), ('graded', 1), ('instructor:', 1), ('project,', 1), ('without', 1), ('programs', 1), ('unit.', 1), ('bell.', 1), ('recent', 1), ('single', 1), ('grade.', 1), ('408d', 1), ('persons', 1), ('upon', 1), ('exhaust', 1), ('week', 1), ('implement,', 1), ('android', 1), ('calculators,', 1), ('filtering,', 1), ('2005', 1), ('complex', 1), ('campus', 1), ('submission', 1), ('practice,', 1), ('submissions.', 1), ('develop', 1), ('parisa', 1), ('management.', 1), ('11:59pm', 1), ('topics,', 1), ('engaged', 1), ('leskovec,', 1), ('ipads,', 1), ('aid', 1), ('papers,', 1), ('error', 1), ('world,', 1), ('problem,', 1), ('engineering', 1), ('tolerate', 1), ('c:', 1), ('(20%).', 1), ('moffat,', 1), ('each)', 1), ('ditp:', 1), ('copied', 1), ('expected', 1), ('treat', 1), ('punished', 1), ('quiz', 1), ('due', 1), ('own.', 1), ('come', 1), ('earning', 1), ('a&m;', 1), ('0-59.', 1), ('together.', 1), ('alone', 1), ('rapidly.', 1), ('community', 1), ('anti-discrimination', 1), ('guaranteed', 1), ('jeff', 1), ('among', 1), ('significant,', 1), ('way.', 1), ('(front', 1), ('iir:', 1), ('april', 1), ('etb', 1), ('etc.', 1), ('clarify,', 1), ('jon', 1), ('optional', 1), ('key', 1), ('days,', 1), ('ignorance', 1), ('days:', 1), ('available', 1), ('date.', 1), ('across', 1), ('reading', 1), ('closed', 1), ('libraries', 1), ('currently', 1), ('managing', 1), ('assignment,', 1), ('techniques', 1), ('computer', 1), ('manning', 1), ('this,', 1), ('90-100,', 1), ('press,', 1), ('automatic', 1), ('(hey,', 1), ('contain', 1), ('paper', 1), ('summary', 1), ('stanford', 1), ('processes', 1), ('baeza-yates', 1), ('christopher', 1), ('cannot', 1), ('pass.', 1), ('code,', 1), ('overall', 1), ('over', 1), ('ranking', 1), ('(every', 1), ('information,', 1), ('explicitly', 1), ('sets.', 1), ('explain', 1), ('implementation', 1), ('(25%).', 1), ('gigabytes,', 1), ('with.', 1), ('fine', 1), ('participate', 1), ('solutions', 1), ('d:', 1), ('bring', 1), ('meetings', 1), ('d.', 1), ('alone.', 1), ('typically', 1), ('missed', 1), ('cover', 1), ('process),', 1), ('statute', 1), ('probabilistic', 1), ('models,', 1), ('accepting', 1), ('plan', 1), ('connected', 1), ('hrbb', 1), ('most', 1), ('7,', 1), ('raghavan,', 1), ('though', 1), ('grading,', 1), ('towards', 1), ('ncm:', 1), ('online', 1), ('also', 1), ('lin', 1), ('efficient', 1), ('crawling,', 1), ('kleinberg,', 1), ('(and', 1), ('mining', 1), ('search,', 1), ('http://disability.tamu.edu.', 1), ('semester,', 1), ('pointed', 1), ('solely', 1), ('toward', 1), ('design', 1), ('solutions)', 1), ('critically', 1), ('to:', 1), ('from:', 1), (\"here's\", 1), ('networks,', 1), ('2008.', 1), ('feedback,', 1), ('final', 1), ('white', 1), ('mmd:', 1), ('least', 1), ('system', 1), ('18.', 1), ('top', 1), ('introduction', 1), ('salient', 1), ('given', 1), ('anyone', 1), ('miss', 1), ('directly', 1), ('done', 1), ('welcome', 1), ('primary', 1), ('legislation', 1), ('structures.', 1), ('features', 1), ('there', 1), ('hence', 1), ('pagerank.', 1), ('massive', 1), ('day).', 1), ('david', 1), ('could', 1), ('steal', 1), ('selections', 1), ('categorization.', 1), ('categorization,', 1), ('a&m', 1), ('accommodation', 1), ('regrade.', 1), ('approaches', 1), ('directions,', 1), ('standard', 1), ('free', 1), ('beatles\").', 1), ('book,', 1), ('interesting,', 1), ('issue', 1), ('comprehensive', 1), ('(e.g.,', 1), ('encourage', 1), ('include', 1), ('space', 1), ('matrix', 1), ('teams', 1), ('easley', 1), ('60-69,', 1), ('examinations,', 1), ('(but', 1), ('found', 1), ('james', 1), ('clarification,', 1), ('clarification:', 1), ('material', 1), ('python', 1), ('thereby', 1), ('hinrich', 1), ('403', 1), ('writing', 1), ('expectations', 1), ('group', 1), ('before', 1), ('phones/tablets,', 1), ('during', 1), ('statistical', 1), ('times;', 1), ('mapreduce,', 1), ('material,', 1), ('data-intensive', 1), ('inform', 1), ('3).', 1), ('accommodation,', 1), ('metzler,', 1), ('prerequisites', 1), ('natural', 1), ('data', 1), ('ta.', 1), ('such', 1), ('fashion.', 1), ('amazon,', 1), ('follows:', 1), ('ta:', 1), ('needs', 1), ('philosophy', 1), ('croft,', 1), ('protection', 1), ('70-79,', 1), ('9:35-10:50am', 1), ('responsibility', 1), ('located', 1), ('write', 1), (\"''an\", 1), ('independently.', 1), ('memorize', 1), ('end', 1), ('statistics,', 1), ('exclude', 1), ('http://aggiehonor.tamu.edu', 1), ('engines:', 1), ('pieces', 1), ('purposes', 1), ('f:', 1), ('learn', 1), ('abacuses', 1), ('science', 1), ('f', 1), ('language', 1), ('lie,', 1), ('keeping', 1), ('algorithms,', 1), ('foundations', 1), ('particular', 1), ('cheat,', 1), ('call', 1), ('resubmit', 1), ('dyer,', 1), ('text-based', 1), ('visit', 1), ('attendance', 1), ('circumvent', 1), ('total', 1), ('apply', 1), ('hint:', 1), ('thursday', 1), ('semester', 1), ('caverlee,', 1), ('highly', 1), ('requiring', 1), ('reserve', 1), ('crowds,', 1), ('via', 1), ('error.', 1), (\"someone's\", 1), ('bob', 1), ('social', 1), ('indivisible', 1), ('engage', 1), ('iphones,', 1), ('jure', 1), ('groups', 1), ('components,', 1), ('reported', 1), ('classmates.', 1), ('concepts', 1), ('afterwards,', 1), ('ullman.', 1), ('kaghazgaran,', 1), ('booksellers.', 1), ('new', 1), ('brief', 1), ('section', 1), ('errors', 1), ('what', 1), ('web-based', 1), ('others.', 1), ('allowed.', 1), ('link-based', 1), ('9-11am', 1), ('direct', 1), ('okay', 1), ('requirements', 1), ('else.', 1), ('facilitating', 1), ('back).', 1), (\"do.''\", 1), ('team', 1), ('services,', 1), ('vector', 1), ('large', 1), ('rights', 1), ('notes', 1), ('--', 1), (\"we'll\", 1), ('entire', 1), ('timely', 1), ('plagiarism.', 1), ('rajarman,', 1), ('none', 1), ('question,', 1), ('markets:', 1), ('piazza,', 1), ('resources', 1), ('worth', 1), ('questions,', 1), ('severely,', 1), ('environment', 1), ('opportunities', 1), ('uphold', 1), ('reasoning', 1), ('integrity', 1), ('follow', 1), ('boolean,', 1), ('anand', 1), ('witten,', 1), ('four', 1), ('regrade', 1), ('results', 1), ('limited', 1)]\n"
     ]
    }
   ],
   "source": [
    "# your code here\n",
    "import urllib2\n",
    "from bs4 import BeautifulSoup\n",
    "\n",
    "url = \"http://courses.cse.tamu.edu/caverlee/csce670/\"\n",
    "content = urllib2.urlopen(url)\n",
    "# print content\n",
    "\n",
    "wordlist = content.read()\n",
    "soup = BeautifulSoup(wordlist,\"html.parser\")\n",
    "wordlist = soup.get_text().encode().lower().split()\n",
    "wordfreq = []\n",
    "\n",
    "for w in wordlist:\n",
    "    wordfreq.append(wordlist.count(w))\n",
    "\n",
    "worddic = dict(zip(wordlist, wordfreq))\n",
    "\n",
    "print(\"List of words\\n\" + str(wordlist) + \"\\n\")\n",
    "print(\"Frequencies of words\\n\" + str(wordfreq) + \"\\n\")\n",
    "print(\"Pairs of words and frequencies (unsorted)\\n\" + str(worddic.items()))\n",
    "# for w in worddic: print(str(w)+\",\"+ str(worddic[w]))\n",
    "    \n",
    "tempdic = [(word, worddic[word]) for word in worddic]\n",
    "tempdic.sort(key=lambda tupple: tupple[1])\n",
    "tempdic.reverse()\n",
    "\n",
    "print(\"\\nPairs of words and frequencies (sorted)\\n\"+ str(tempdic))\n",
    "\n",
    "\n"
   ]
  },
  {
   "cell_type": "code",
   "execution_count": null,
   "metadata": {
    "collapsed": true
   },
   "outputs": [],
   "source": []
  },
  {
   "cell_type": "code",
   "execution_count": null,
   "metadata": {
    "collapsed": true
   },
   "outputs": [],
   "source": []
  }
 ],
 "metadata": {
  "anaconda-cloud": {},
  "kernelspec": {
   "display_name": "Python 2",
   "language": "python",
   "name": "python2"
  },
  "language_info": {
   "codemirror_mode": {
    "name": "ipython",
    "version": 2
   },
   "file_extension": ".py",
   "mimetype": "text/x-python",
   "name": "python",
   "nbconvert_exporter": "python",
   "pygments_lexer": "ipython2",
   "version": "2.7.14"
  }
 },
 "nbformat": 4,
 "nbformat_minor": 1
}
